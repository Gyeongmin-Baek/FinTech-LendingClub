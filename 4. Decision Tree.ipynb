{
 "cells": [
  {
   "cell_type": "code",
   "execution_count": 1,
   "metadata": {},
   "outputs": [],
   "source": [
    "import pandas as pd\n",
    "import numpy as np\n",
    "import matplotlib\n",
    "import matplotlib.pyplot as plt\n",
    "\n",
    "%matplotlib inline\n",
    "\n",
    "import seaborn as sns\n",
    "import graphviz\n",
    "from sklearn.preprocessing import StandardScaler\n",
    "\n",
    "#matplotlib 패키지 한글 깨짐 처리 시작\n",
    "#한글 폰트(맑은 고딕) 적용 : 윈도우, 구글 콜랩\n",
    "matplotlib.rc('font', family = \"Malgun Gothic\")\n",
    "plt.rc('font', family = \"Malgun Gothic\")\n",
    "\n",
    "#seaborn에서 한글 깨짐 해결\n",
    "#minus 깨짐현상 방지\n",
    "plt.rcParams['axes.unicode_minus'] = False\n",
    "\n",
    "from sklearn.tree import export_graphviz\n",
    "\n",
    "import graphviz\n",
    "\n",
    "from sklearn.model_selection import train_test_split\n",
    "from sklearn.model_selection import GridSearchCV\n",
    "\n",
    "from sklearn.metrics import accuracy_score\n",
    "from sklearn.metrics import confusion_matrix\n",
    "\n",
    "from sklearn.tree import DecisionTreeClassifier\n",
    "from sklearn.ensemble import RandomForestClassifier\n",
    "\n",
    "from sklearn.metrics import f1_score, roc_curve, auc, precision_score, recall_score, classification_report\n",
    "\n",
    "from imblearn.under_sampling import *"
   ]
  },
  {
   "cell_type": "markdown",
   "metadata": {},
   "source": [
    "### 데이터 불러오기"
   ]
  },
  {
   "cell_type": "code",
   "execution_count": 2,
   "metadata": {},
   "outputs": [],
   "source": [
    "df = pd.read_pickle('loan_prepared_for_dt.pickle')"
   ]
  },
  {
   "cell_type": "code",
   "execution_count": 3,
   "metadata": {},
   "outputs": [],
   "source": [
    "#더미변수를 합친 미리 저장한 데이터 불러오기\n",
    "df2 = pd.read_pickle('all_data.pickle')"
   ]
  },
  {
   "cell_type": "code",
   "execution_count": 4,
   "metadata": {},
   "outputs": [],
   "source": [
    "df2 = df2[['funded_amnt', 'total_pymnt', 'total_rec_int']]"
   ]
  },
  {
   "cell_type": "code",
   "execution_count": 5,
   "metadata": {},
   "outputs": [],
   "source": [
    "loan = pd.concat([df, df2], axis=1, join = 'inner')"
   ]
  },
  {
   "cell_type": "code",
   "execution_count": 6,
   "metadata": {},
   "outputs": [
    {
     "data": {
      "text/html": [
       "<div>\n",
       "<style scoped>\n",
       "    .dataframe tbody tr th:only-of-type {\n",
       "        vertical-align: middle;\n",
       "    }\n",
       "\n",
       "    .dataframe tbody tr th {\n",
       "        vertical-align: top;\n",
       "    }\n",
       "\n",
       "    .dataframe thead th {\n",
       "        text-align: right;\n",
       "    }\n",
       "</style>\n",
       "<table border=\"1\" class=\"dataframe\">\n",
       "  <thead>\n",
       "    <tr style=\"text-align: right;\">\n",
       "      <th></th>\n",
       "      <th>loan_amnt</th>\n",
       "      <th>annual_inc</th>\n",
       "      <th>dti</th>\n",
       "      <th>inq_last_6mths</th>\n",
       "      <th>open_acc</th>\n",
       "      <th>pub_rec</th>\n",
       "      <th>revol_bal</th>\n",
       "      <th>revol_util</th>\n",
       "      <th>total_acc</th>\n",
       "      <th>collections_12_mths_ex_med</th>\n",
       "      <th>...</th>\n",
       "      <th>addr_state_44</th>\n",
       "      <th>addr_state_45</th>\n",
       "      <th>addr_state_46</th>\n",
       "      <th>addr_state_47</th>\n",
       "      <th>addr_state_48</th>\n",
       "      <th>addr_state_49</th>\n",
       "      <th>addr_state_50</th>\n",
       "      <th>funded_amnt</th>\n",
       "      <th>total_pymnt</th>\n",
       "      <th>total_rec_int</th>\n",
       "    </tr>\n",
       "  </thead>\n",
       "  <tbody>\n",
       "    <tr>\n",
       "      <th>1092914</th>\n",
       "      <td>24000</td>\n",
       "      <td>79000.0</td>\n",
       "      <td>3.90</td>\n",
       "      <td>1</td>\n",
       "      <td>5</td>\n",
       "      <td>0</td>\n",
       "      <td>8621</td>\n",
       "      <td>0.845</td>\n",
       "      <td>23</td>\n",
       "      <td>0</td>\n",
       "      <td>...</td>\n",
       "      <td>0</td>\n",
       "      <td>0</td>\n",
       "      <td>0</td>\n",
       "      <td>0</td>\n",
       "      <td>0</td>\n",
       "      <td>0</td>\n",
       "      <td>0</td>\n",
       "      <td>24000</td>\n",
       "      <td>28663.68666</td>\n",
       "      <td>4663.69</td>\n",
       "    </tr>\n",
       "    <tr>\n",
       "      <th>1092915</th>\n",
       "      <td>10000</td>\n",
       "      <td>31000.0</td>\n",
       "      <td>28.69</td>\n",
       "      <td>0</td>\n",
       "      <td>9</td>\n",
       "      <td>1</td>\n",
       "      <td>14037</td>\n",
       "      <td>0.821</td>\n",
       "      <td>15</td>\n",
       "      <td>0</td>\n",
       "      <td>...</td>\n",
       "      <td>0</td>\n",
       "      <td>0</td>\n",
       "      <td>0</td>\n",
       "      <td>0</td>\n",
       "      <td>0</td>\n",
       "      <td>0</td>\n",
       "      <td>0</td>\n",
       "      <td>10000</td>\n",
       "      <td>11947.24405</td>\n",
       "      <td>1947.24</td>\n",
       "    </tr>\n",
       "    <tr>\n",
       "      <th>1092916</th>\n",
       "      <td>12000</td>\n",
       "      <td>64400.0</td>\n",
       "      <td>27.19</td>\n",
       "      <td>2</td>\n",
       "      <td>17</td>\n",
       "      <td>0</td>\n",
       "      <td>8254</td>\n",
       "      <td>0.306</td>\n",
       "      <td>20</td>\n",
       "      <td>1</td>\n",
       "      <td>...</td>\n",
       "      <td>0</td>\n",
       "      <td>0</td>\n",
       "      <td>0</td>\n",
       "      <td>0</td>\n",
       "      <td>0</td>\n",
       "      <td>0</td>\n",
       "      <td>0</td>\n",
       "      <td>12000</td>\n",
       "      <td>5366.99000</td>\n",
       "      <td>2234.98</td>\n",
       "    </tr>\n",
       "    <tr>\n",
       "      <th>1092917</th>\n",
       "      <td>13000</td>\n",
       "      <td>35000.0</td>\n",
       "      <td>30.90</td>\n",
       "      <td>0</td>\n",
       "      <td>9</td>\n",
       "      <td>1</td>\n",
       "      <td>11031</td>\n",
       "      <td>0.613</td>\n",
       "      <td>22</td>\n",
       "      <td>0</td>\n",
       "      <td>...</td>\n",
       "      <td>0</td>\n",
       "      <td>0</td>\n",
       "      <td>0</td>\n",
       "      <td>0</td>\n",
       "      <td>0</td>\n",
       "      <td>0</td>\n",
       "      <td>0</td>\n",
       "      <td>13000</td>\n",
       "      <td>6109.52000</td>\n",
       "      <td>2506.32</td>\n",
       "    </tr>\n",
       "    <tr>\n",
       "      <th>1092918</th>\n",
       "      <td>20000</td>\n",
       "      <td>100000.0</td>\n",
       "      <td>10.83</td>\n",
       "      <td>1</td>\n",
       "      <td>8</td>\n",
       "      <td>1</td>\n",
       "      <td>33266</td>\n",
       "      <td>0.798</td>\n",
       "      <td>10</td>\n",
       "      <td>0</td>\n",
       "      <td>...</td>\n",
       "      <td>0</td>\n",
       "      <td>0</td>\n",
       "      <td>0</td>\n",
       "      <td>0</td>\n",
       "      <td>0</td>\n",
       "      <td>0</td>\n",
       "      <td>0</td>\n",
       "      <td>20000</td>\n",
       "      <td>23735.38633</td>\n",
       "      <td>3735.39</td>\n",
       "    </tr>\n",
       "  </tbody>\n",
       "</table>\n",
       "<p>5 rows × 102 columns</p>\n",
       "</div>"
      ],
      "text/plain": [
       "         loan_amnt  annual_inc    dti  inq_last_6mths  open_acc  pub_rec  \\\n",
       "1092914      24000     79000.0   3.90               1         5        0   \n",
       "1092915      10000     31000.0  28.69               0         9        1   \n",
       "1092916      12000     64400.0  27.19               2        17        0   \n",
       "1092917      13000     35000.0  30.90               0         9        1   \n",
       "1092918      20000    100000.0  10.83               1         8        1   \n",
       "\n",
       "         revol_bal  revol_util  total_acc  collections_12_mths_ex_med  ...  \\\n",
       "1092914       8621       0.845         23                           0  ...   \n",
       "1092915      14037       0.821         15                           0  ...   \n",
       "1092916       8254       0.306         20                           1  ...   \n",
       "1092917      11031       0.613         22                           0  ...   \n",
       "1092918      33266       0.798         10                           0  ...   \n",
       "\n",
       "         addr_state_44  addr_state_45  addr_state_46  addr_state_47  \\\n",
       "1092914              0              0              0              0   \n",
       "1092915              0              0              0              0   \n",
       "1092916              0              0              0              0   \n",
       "1092917              0              0              0              0   \n",
       "1092918              0              0              0              0   \n",
       "\n",
       "         addr_state_48  addr_state_49  addr_state_50  funded_amnt  \\\n",
       "1092914              0              0              0        24000   \n",
       "1092915              0              0              0        10000   \n",
       "1092916              0              0              0        12000   \n",
       "1092917              0              0              0        13000   \n",
       "1092918              0              0              0        20000   \n",
       "\n",
       "         total_pymnt  total_rec_int  \n",
       "1092914  28663.68666        4663.69  \n",
       "1092915  11947.24405        1947.24  \n",
       "1092916   5366.99000        2234.98  \n",
       "1092917   6109.52000        2506.32  \n",
       "1092918  23735.38633        3735.39  \n",
       "\n",
       "[5 rows x 102 columns]"
      ]
     },
     "execution_count": 6,
     "metadata": {},
     "output_type": "execute_result"
    }
   ],
   "source": [
    "loan.tail()"
   ]
  },
  {
   "cell_type": "code",
   "execution_count": 7,
   "metadata": {},
   "outputs": [
    {
     "data": {
      "text/plain": [
       "0"
      ]
     },
     "execution_count": 7,
     "metadata": {},
     "output_type": "execute_result"
    }
   ],
   "source": [
    "sum(loan.isnull().sum())"
   ]
  },
  {
   "cell_type": "markdown",
   "metadata": {},
   "source": [
    "### train, test 분리"
   ]
  },
  {
   "cell_type": "code",
   "execution_count": 8,
   "metadata": {},
   "outputs": [],
   "source": [
    "loan_train_val, loan_test =  train_test_split(loan, test_size = 0.2, shuffle=True, random_state=42)\n",
    "loan_train, loan_val =  train_test_split(loan_train_val, test_size = 0.25, shuffle=True, random_state=42)"
   ]
  },
  {
   "cell_type": "code",
   "execution_count": 9,
   "metadata": {},
   "outputs": [],
   "source": [
    "df_train_x = loan_train.drop('depvar', axis=1)\n",
    "df_test_x = loan_test.drop('depvar', axis=1)\n",
    "df_val_x = loan_val.drop('depvar', axis = 1)\n",
    "df_train_y = loan_train['depvar'].astype('int')\n",
    "df_val_y = loan_val['depvar'].astype('int')\n",
    "df_test_y = loan_test['depvar'].astype('int')"
   ]
  },
  {
   "cell_type": "code",
   "execution_count": 10,
   "metadata": {},
   "outputs": [
    {
     "data": {
      "text/plain": [
       "<AxesSubplot:xlabel='depvar', ylabel='count'>"
      ]
     },
     "execution_count": 10,
     "metadata": {},
     "output_type": "execute_result"
    },
    {
     "name": "stderr",
     "output_type": "stream",
     "text": [
      "findfont: Font family ['Malgun Gothic'] not found. Falling back to DejaVu Sans.\n"
     ]
    },
    {
     "data": {
      "image/png": "[encoded data removed]",
      "text/plain": [
       "<Figure size 432x288 with 1 Axes>"
      ]
     },
     "metadata": {
      "needs_background": "light"
     },
     "output_type": "display_data"
    }
   ],
   "source": [
    "sns.countplot(x = 'depvar', data = loan_train)"
   ]
  },
  {
   "cell_type": "code",
   "execution_count": 11,
   "metadata": {},
   "outputs": [
    {
     "data": {
      "text/plain": [
       "0    549680\n",
       "1    105964\n",
       "Name: depvar, dtype: int64"
      ]
     },
     "execution_count": 11,
     "metadata": {},
     "output_type": "execute_result"
    }
   ],
   "source": [
    "df_train_y.value_counts()"
   ]
  },
  {
   "cell_type": "code",
   "execution_count": 12,
   "metadata": {},
   "outputs": [
    {
     "data": {
      "text/plain": [
       "0    183087\n",
       "1     35462\n",
       "Name: depvar, dtype: int64"
      ]
     },
     "execution_count": 12,
     "metadata": {},
     "output_type": "execute_result"
    }
   ],
   "source": [
    "df_test_y.value_counts()"
   ]
  },
  {
   "cell_type": "code",
   "execution_count": 13,
   "metadata": {},
   "outputs": [
    {
     "name": "stdout",
     "output_type": "stream",
     "text": [
      "655644 218548 218549\n"
     ]
    }
   ],
   "source": [
    "print(len(df_train_x), len(df_val_x), len(df_test_x))"
   ]
  },
  {
   "cell_type": "code",
   "execution_count": 14,
   "metadata": {},
   "outputs": [],
   "source": [
    "from imblearn.under_sampling import *"
   ]
  },
  {
   "cell_type": "markdown",
   "metadata": {},
   "source": [
    "### 모델 생성"
   ]
  },
  {
   "cell_type": "code",
   "execution_count": 15,
   "metadata": {},
   "outputs": [
    {
     "name": "stdout",
     "output_type": "stream",
     "text": [
      "before undersampling counts of label 1 : 105964\n",
      "before undersampling counts of label 0 : 549680\n",
      "after undersampling counts of label 1 : 105964\n",
      "after undersampling counts of label 0 : 105964\n"
     ]
    }
   ],
   "source": [
    "#under sampling 으로 data 균형 맞춰주기\n",
    "print('before undersampling counts of label 1 : {}'.format(sum(df_train_y == 1)))\n",
    "print('before undersampling counts of label 0 : {}'.format(sum(df_train_y == 0)))\n",
    "\n",
    "rus = RandomUnderSampler(random_state = 1234)\n",
    "x_train_res, y_train_res = rus.fit_resample(df_train_x, df_train_y.ravel())\n",
    "\n",
    "print('after undersampling counts of label 1 : {}'.format(sum(y_train_res == 1)))\n",
    "print('after undersampling counts of label 0 : {}'.format(sum(y_train_res == 0)))"
   ]
  },
  {
   "cell_type": "code",
   "execution_count": 16,
   "metadata": {},
   "outputs": [
    {
     "data": {
      "text/plain": [
       "<AxesSubplot:xlabel='0', ylabel='count'>"
      ]
     },
     "execution_count": 16,
     "metadata": {},
     "output_type": "execute_result"
    },
    {
     "data": {
      "image/png": "[encoded data removed]",
      "text/plain": [
       "<Figure size 432x288 with 1 Axes>"
      ]
     },
     "metadata": {
      "needs_background": "light"
     },
     "output_type": "display_data"
    }
   ],
   "source": [
    "sns.countplot(x = 0, data = pd.DataFrame(y_train_res))"
   ]
  },
  {
   "cell_type": "code",
   "execution_count": 17,
   "metadata": {},
   "outputs": [
    {
     "data": {
      "text/plain": [
       "['funded_amnt', 'total_pymnt', 'total_rec_int']"
      ]
     },
     "execution_count": 17,
     "metadata": {},
     "output_type": "execute_result"
    }
   ],
   "source": [
    "list(x_train_res.columns)[-3:]"
   ]
  },
  {
   "cell_type": "code",
   "execution_count": 18,
   "metadata": {},
   "outputs": [
    {
     "name": "stdout",
     "output_type": "stream",
     "text": [
      "['loan_amnt', 'annual_inc', 'dti', 'inq_last_6mths', 'open_acc', 'pub_rec', 'revol_bal', 'revol_util', 'total_acc', 'collections_12_mths_ex_med', 'acc_now_delinq', 'tot_coll_amt', 'tot_cur_bal', 'chargeoff_within_12_mths', 'delinq_amnt', 'pub_rec_bankruptcies', 'tax_liens', 'mths_since_last_delinq', 'mths_since_last_major_derog', 'mths_since_last_record', 'mths_since_rcnt_il', 'mths_since_recent_bc', 'mths_since_recent_bc_dlq', 'mths_since_recent_inq', 'mths_since_recent_revol_delinq', 'fico_score', 'last_fico_score', 'emp_length_1', 'emp_length_2', 'emp_length_3', 'home_ownership_1', 'home_ownership_2', 'home_ownership_3', 'verification_status_1', 'verification_status_2', 'purpose_1', 'purpose_2', 'purpose_3', 'purpose_4', 'purpose_5', 'purpose_6', 'purpose_7', 'purpose_8', 'purpose_9', 'purpose_10', 'purpose_11', 'purpose_12', 'purpose_13', 'addr_state_1', 'addr_state_2', 'addr_state_3', 'addr_state_4', 'addr_state_5', 'addr_state_6', 'addr_state_7', 'addr_state_8', 'addr_state_9', 'addr_state_10', 'addr_state_11', 'addr_state_12', 'addr_state_13', 'addr_state_14', 'addr_state_15', 'addr_state_16', 'addr_state_17', 'addr_state_18', 'addr_state_19', 'addr_state_20', 'addr_state_21', 'addr_state_22', 'addr_state_23', 'addr_state_24', 'addr_state_25', 'addr_state_26', 'addr_state_27', 'addr_state_28', 'addr_state_29', 'addr_state_30', 'addr_state_31', 'addr_state_32', 'addr_state_33', 'addr_state_34', 'addr_state_35', 'addr_state_36', 'addr_state_37', 'addr_state_38', 'addr_state_39', 'addr_state_40', 'addr_state_41', 'addr_state_42', 'addr_state_43', 'addr_state_44', 'addr_state_45', 'addr_state_46', 'addr_state_47', 'addr_state_48', 'addr_state_49', 'addr_state_50']\n"
     ]
    }
   ],
   "source": [
    "model_list = list(x_train_res.columns)\n",
    "del model_list[-3:]\n",
    "print(model_list)"
   ]
  },
  {
   "cell_type": "code",
   "execution_count": 19,
   "metadata": {},
   "outputs": [],
   "source": [
    "x_train_res1 = x_train_res.copy()\n",
    "df_test_x1 = df_test_x.copy()\n",
    "df_val_x1 = df_val_x.copy()"
   ]
  },
  {
   "cell_type": "code",
   "execution_count": 20,
   "metadata": {},
   "outputs": [
    {
     "name": "stdout",
     "output_type": "stream",
     "text": [
      "211928 218549 218548\n"
     ]
    }
   ],
   "source": [
    "print(len(x_train_res1), len(df_test_x1), len(df_val_x1))"
   ]
  },
  {
   "cell_type": "code",
   "execution_count": 21,
   "metadata": {},
   "outputs": [],
   "source": [
    "x_train_res = x_train_res[model_list]\n",
    "df_test_x = df_test_x[model_list]\n",
    "df_val_x = df_val_x[model_list]"
   ]
  },
  {
   "cell_type": "code",
   "execution_count": 22,
   "metadata": {},
   "outputs": [
    {
     "name": "stdout",
     "output_type": "stream",
     "text": [
      "Score on training set:1.000\n",
      "Score on validation set:0.795\n"
     ]
    }
   ],
   "source": [
    "#기본 tree 모형 생성\n",
    "dt_uncustomized = DecisionTreeClassifier(random_state = 1234)\n",
    "dt_uncustomized.fit(x_train_res, y_train_res)\n",
    "\n",
    "print('Score on training set:{:.3f}'.format(dt_uncustomized.score(x_train_res,\n",
    "                                                                   y_train_res)))\n",
    "print('Score on validation set:{:.3f}'.format(dt_uncustomized.score(df_val_x,\n",
    "                                                              df_val_y)))"
   ]
  },
  {
   "cell_type": "markdown",
   "metadata": {},
   "source": [
    "### 파라미터 조정"
   ]
  },
  {
   "cell_type": "code",
   "execution_count": 23,
   "metadata": {},
   "outputs": [],
   "source": [
    "train_score=[]\n",
    "val_score=[]\n",
    "\n",
    "para_leaf=[n_leaf*1 for n_leaf in range(1, 20)]\n",
    "\n",
    "for v_min_samples_leaf in para_leaf:\n",
    "    tree=DecisionTreeClassifier(random_state=1234, min_samples_leaf=v_min_samples_leaf)\n",
    "    tree.fit(x_train_res, y_train_res)\n",
    "    train_score.append(tree.score(x_train_res, y_train_res))\n",
    "    val_score.append(tree.score(df_val_x, df_val_y))\n",
    "    \n",
    "df_score_leaf=pd.DataFrame()\n",
    "df_score_leaf['MinSamplesLeaf']=para_leaf\n",
    "df_score_leaf['TrainScore']=train_score\n",
    "df_score_leaf['TestScore']=val_score"
   ]
  },
  {
   "cell_type": "code",
   "execution_count": 24,
   "metadata": {},
   "outputs": [
    {
     "data": {
      "text/html": [
       "<div>\n",
       "<style scoped>\n",
       "    .dataframe tbody tr th:only-of-type {\n",
       "        vertical-align: middle;\n",
       "    }\n",
       "\n",
       "    .dataframe tbody tr th {\n",
       "        vertical-align: top;\n",
       "    }\n",
       "\n",
       "    .dataframe thead th {\n",
       "        text-align: right;\n",
       "    }\n",
       "</style>\n",
       "<table border=\"1\" class=\"dataframe\">\n",
       "  <thead>\n",
       "    <tr style=\"text-align: right;\">\n",
       "      <th></th>\n",
       "      <th>MinSamplesLeaf</th>\n",
       "      <th>TrainScore</th>\n",
       "      <th>TestScore</th>\n",
       "    </tr>\n",
       "  </thead>\n",
       "  <tbody>\n",
       "    <tr>\n",
       "      <th>0</th>\n",
       "      <td>1</td>\n",
       "      <td>1.000</td>\n",
       "      <td>0.795</td>\n",
       "    </tr>\n",
       "    <tr>\n",
       "      <th>1</th>\n",
       "      <td>2</td>\n",
       "      <td>0.970</td>\n",
       "      <td>0.809</td>\n",
       "    </tr>\n",
       "    <tr>\n",
       "      <th>2</th>\n",
       "      <td>3</td>\n",
       "      <td>0.955</td>\n",
       "      <td>0.804</td>\n",
       "    </tr>\n",
       "    <tr>\n",
       "      <th>3</th>\n",
       "      <td>4</td>\n",
       "      <td>0.939</td>\n",
       "      <td>0.815</td>\n",
       "    </tr>\n",
       "    <tr>\n",
       "      <th>4</th>\n",
       "      <td>5</td>\n",
       "      <td>0.929</td>\n",
       "      <td>0.813</td>\n",
       "    </tr>\n",
       "    <tr>\n",
       "      <th>5</th>\n",
       "      <td>6</td>\n",
       "      <td>0.920</td>\n",
       "      <td>0.819</td>\n",
       "    </tr>\n",
       "    <tr>\n",
       "      <th>6</th>\n",
       "      <td>7</td>\n",
       "      <td>0.914</td>\n",
       "      <td>0.819</td>\n",
       "    </tr>\n",
       "    <tr>\n",
       "      <th>7</th>\n",
       "      <td>8</td>\n",
       "      <td>0.907</td>\n",
       "      <td>0.825</td>\n",
       "    </tr>\n",
       "    <tr>\n",
       "      <th>8</th>\n",
       "      <td>9</td>\n",
       "      <td>0.903</td>\n",
       "      <td>0.825</td>\n",
       "    </tr>\n",
       "    <tr>\n",
       "      <th>9</th>\n",
       "      <td>10</td>\n",
       "      <td>0.900</td>\n",
       "      <td>0.827</td>\n",
       "    </tr>\n",
       "    <tr>\n",
       "      <th>10</th>\n",
       "      <td>11</td>\n",
       "      <td>0.897</td>\n",
       "      <td>0.827</td>\n",
       "    </tr>\n",
       "    <tr>\n",
       "      <th>11</th>\n",
       "      <td>12</td>\n",
       "      <td>0.895</td>\n",
       "      <td>0.828</td>\n",
       "    </tr>\n",
       "    <tr>\n",
       "      <th>12</th>\n",
       "      <td>13</td>\n",
       "      <td>0.892</td>\n",
       "      <td>0.829</td>\n",
       "    </tr>\n",
       "    <tr>\n",
       "      <th>13</th>\n",
       "      <td>14</td>\n",
       "      <td>0.890</td>\n",
       "      <td>0.831</td>\n",
       "    </tr>\n",
       "    <tr>\n",
       "      <th>14</th>\n",
       "      <td>15</td>\n",
       "      <td>0.889</td>\n",
       "      <td>0.830</td>\n",
       "    </tr>\n",
       "    <tr>\n",
       "      <th>15</th>\n",
       "      <td>16</td>\n",
       "      <td>0.887</td>\n",
       "      <td>0.831</td>\n",
       "    </tr>\n",
       "    <tr>\n",
       "      <th>16</th>\n",
       "      <td>17</td>\n",
       "      <td>0.886</td>\n",
       "      <td>0.832</td>\n",
       "    </tr>\n",
       "    <tr>\n",
       "      <th>17</th>\n",
       "      <td>18</td>\n",
       "      <td>0.885</td>\n",
       "      <td>0.833</td>\n",
       "    </tr>\n",
       "    <tr>\n",
       "      <th>18</th>\n",
       "      <td>19</td>\n",
       "      <td>0.884</td>\n",
       "      <td>0.833</td>\n",
       "    </tr>\n",
       "  </tbody>\n",
       "</table>\n",
       "</div>"
      ],
      "text/plain": [
       "    MinSamplesLeaf  TrainScore  TestScore\n",
       "0                1       1.000      0.795\n",
       "1                2       0.970      0.809\n",
       "2                3       0.955      0.804\n",
       "3                4       0.939      0.815\n",
       "4                5       0.929      0.813\n",
       "5                6       0.920      0.819\n",
       "6                7       0.914      0.819\n",
       "7                8       0.907      0.825\n",
       "8                9       0.903      0.825\n",
       "9               10       0.900      0.827\n",
       "10              11       0.897      0.827\n",
       "11              12       0.895      0.828\n",
       "12              13       0.892      0.829\n",
       "13              14       0.890      0.831\n",
       "14              15       0.889      0.830\n",
       "15              16       0.887      0.831\n",
       "16              17       0.886      0.832\n",
       "17              18       0.885      0.833\n",
       "18              19       0.884      0.833"
      ]
     },
     "execution_count": 24,
     "metadata": {},
     "output_type": "execute_result"
    }
   ],
   "source": [
    "df_score_leaf.round(3)"
   ]
  },
  {
   "cell_type": "code",
   "execution_count": 25,
   "metadata": {},
   "outputs": [
    {
     "data": {
      "text/plain": [
       "<matplotlib.legend.Legend at 0x7f95f3e6bf10>"
      ]
     },
     "execution_count": 25,
     "metadata": {},
     "output_type": "execute_result"
    },
    {
     "data": {
      "image/png": "[encoded data removed]",
      "text/plain": [
       "<Figure size 432x288 with 1 Axes>"
      ]
     },
     "metadata": {
      "needs_background": "light"
     },
     "output_type": "display_data"
    }
   ],
   "source": [
    "plt.plot(para_leaf, train_score, linestyle='-', label='Train Score')\n",
    "plt.plot(para_leaf, val_score, linestyle='--', label = 'Validation Score')\n",
    "plt.legend()\n",
    "#leaf 10으로 설정"
   ]
  },
  {
   "cell_type": "code",
   "execution_count": 26,
   "metadata": {},
   "outputs": [],
   "source": [
    "train_score=[]\n",
    "val_score=[]\n",
    "\n",
    "para_split=[n_split*2 for n_split in range(2, 20)]\n",
    "\n",
    "for v_min_samples_split in para_split:\n",
    "    tree=DecisionTreeClassifier(random_state=1234, min_samples_leaf=12,\n",
    "                               min_samples_split=v_min_samples_split)\n",
    "    tree.fit(x_train_res, y_train_res)\n",
    "    train_score.append(tree.score(x_train_res, y_train_res))\n",
    "    val_score.append(tree.score(df_val_x, df_val_y))\n",
    "    \n",
    "df_score_split=pd.DataFrame()\n",
    "df_score_split['MinSamplesSplit']=para_split\n",
    "df_score_split['TrainScore']=train_score\n",
    "df_score_split['ValScore']=val_score"
   ]
  },
  {
   "cell_type": "code",
   "execution_count": 27,
   "metadata": {},
   "outputs": [
    {
     "data": {
      "text/html": [
       "<div>\n",
       "<style scoped>\n",
       "    .dataframe tbody tr th:only-of-type {\n",
       "        vertical-align: middle;\n",
       "    }\n",
       "\n",
       "    .dataframe tbody tr th {\n",
       "        vertical-align: top;\n",
       "    }\n",
       "\n",
       "    .dataframe thead th {\n",
       "        text-align: right;\n",
       "    }\n",
       "</style>\n",
       "<table border=\"1\" class=\"dataframe\">\n",
       "  <thead>\n",
       "    <tr style=\"text-align: right;\">\n",
       "      <th></th>\n",
       "      <th>MinSamplesSplit</th>\n",
       "      <th>TrainScore</th>\n",
       "      <th>ValScore</th>\n",
       "    </tr>\n",
       "  </thead>\n",
       "  <tbody>\n",
       "    <tr>\n",
       "      <th>0</th>\n",
       "      <td>4</td>\n",
       "      <td>0.895</td>\n",
       "      <td>0.828</td>\n",
       "    </tr>\n",
       "    <tr>\n",
       "      <th>1</th>\n",
       "      <td>6</td>\n",
       "      <td>0.895</td>\n",
       "      <td>0.828</td>\n",
       "    </tr>\n",
       "    <tr>\n",
       "      <th>2</th>\n",
       "      <td>8</td>\n",
       "      <td>0.895</td>\n",
       "      <td>0.828</td>\n",
       "    </tr>\n",
       "    <tr>\n",
       "      <th>3</th>\n",
       "      <td>10</td>\n",
       "      <td>0.895</td>\n",
       "      <td>0.828</td>\n",
       "    </tr>\n",
       "    <tr>\n",
       "      <th>4</th>\n",
       "      <td>12</td>\n",
       "      <td>0.895</td>\n",
       "      <td>0.828</td>\n",
       "    </tr>\n",
       "    <tr>\n",
       "      <th>5</th>\n",
       "      <td>14</td>\n",
       "      <td>0.895</td>\n",
       "      <td>0.828</td>\n",
       "    </tr>\n",
       "    <tr>\n",
       "      <th>6</th>\n",
       "      <td>16</td>\n",
       "      <td>0.895</td>\n",
       "      <td>0.828</td>\n",
       "    </tr>\n",
       "    <tr>\n",
       "      <th>7</th>\n",
       "      <td>18</td>\n",
       "      <td>0.895</td>\n",
       "      <td>0.828</td>\n",
       "    </tr>\n",
       "    <tr>\n",
       "      <th>8</th>\n",
       "      <td>20</td>\n",
       "      <td>0.895</td>\n",
       "      <td>0.828</td>\n",
       "    </tr>\n",
       "    <tr>\n",
       "      <th>9</th>\n",
       "      <td>22</td>\n",
       "      <td>0.895</td>\n",
       "      <td>0.828</td>\n",
       "    </tr>\n",
       "    <tr>\n",
       "      <th>10</th>\n",
       "      <td>24</td>\n",
       "      <td>0.895</td>\n",
       "      <td>0.828</td>\n",
       "    </tr>\n",
       "    <tr>\n",
       "      <th>11</th>\n",
       "      <td>26</td>\n",
       "      <td>0.894</td>\n",
       "      <td>0.829</td>\n",
       "    </tr>\n",
       "    <tr>\n",
       "      <th>12</th>\n",
       "      <td>28</td>\n",
       "      <td>0.892</td>\n",
       "      <td>0.829</td>\n",
       "    </tr>\n",
       "    <tr>\n",
       "      <th>13</th>\n",
       "      <td>30</td>\n",
       "      <td>0.891</td>\n",
       "      <td>0.829</td>\n",
       "    </tr>\n",
       "    <tr>\n",
       "      <th>14</th>\n",
       "      <td>32</td>\n",
       "      <td>0.890</td>\n",
       "      <td>0.829</td>\n",
       "    </tr>\n",
       "    <tr>\n",
       "      <th>15</th>\n",
       "      <td>34</td>\n",
       "      <td>0.889</td>\n",
       "      <td>0.831</td>\n",
       "    </tr>\n",
       "    <tr>\n",
       "      <th>16</th>\n",
       "      <td>36</td>\n",
       "      <td>0.888</td>\n",
       "      <td>0.831</td>\n",
       "    </tr>\n",
       "    <tr>\n",
       "      <th>17</th>\n",
       "      <td>38</td>\n",
       "      <td>0.887</td>\n",
       "      <td>0.831</td>\n",
       "    </tr>\n",
       "  </tbody>\n",
       "</table>\n",
       "</div>"
      ],
      "text/plain": [
       "    MinSamplesSplit  TrainScore  ValScore\n",
       "0                 4       0.895     0.828\n",
       "1                 6       0.895     0.828\n",
       "2                 8       0.895     0.828\n",
       "3                10       0.895     0.828\n",
       "4                12       0.895     0.828\n",
       "5                14       0.895     0.828\n",
       "6                16       0.895     0.828\n",
       "7                18       0.895     0.828\n",
       "8                20       0.895     0.828\n",
       "9                22       0.895     0.828\n",
       "10               24       0.895     0.828\n",
       "11               26       0.894     0.829\n",
       "12               28       0.892     0.829\n",
       "13               30       0.891     0.829\n",
       "14               32       0.890     0.829\n",
       "15               34       0.889     0.831\n",
       "16               36       0.888     0.831\n",
       "17               38       0.887     0.831"
      ]
     },
     "execution_count": 27,
     "metadata": {},
     "output_type": "execute_result"
    }
   ],
   "source": [
    "df_score_split.round(3)"
   ]
  },
  {
   "cell_type": "code",
   "execution_count": 28,
   "metadata": {},
   "outputs": [
    {
     "data": {
      "text/plain": [
       "<matplotlib.legend.Legend at 0x7f9611e5f880>"
      ]
     },
     "execution_count": 28,
     "metadata": {},
     "output_type": "execute_result"
    },
    {
     "data": {
      "image/png": "[encoded data removed]",
      "text/plain": [
       "<Figure size 432x288 with 1 Axes>"
      ]
     },
     "metadata": {
      "needs_background": "light"
     },
     "output_type": "display_data"
    }
   ],
   "source": [
    "plt.plot(para_split, train_score, linestyle='-', label='Train Score')\n",
    "plt.plot(para_split, val_score, linestyle='--', label = 'Validation Score')\n",
    "plt.xlabel('min samples split')\n",
    "plt.ylabel('score')\n",
    "plt.legend()"
   ]
  },
  {
   "cell_type": "code",
   "execution_count": 29,
   "metadata": {},
   "outputs": [],
   "source": [
    "train_score=[]\n",
    "val_score=[]\n",
    "\n",
    "para_depth=[depth for depth in range(1, 11)]\n",
    "\n",
    "for v_max_depth in para_depth:\n",
    "    tree=DecisionTreeClassifier(random_state=1234, min_samples_leaf=12,\n",
    "                               min_samples_split=20, max_depth=v_max_depth)\n",
    "    tree.fit(x_train_res, y_train_res)\n",
    "    train_score.append(tree.score(x_train_res, y_train_res))\n",
    "    val_score.append(tree.score(df_val_x, df_val_y))\n",
    "    \n",
    "df_score_depth=pd.DataFrame()\n",
    "df_score_depth['Depth']=para_depth\n",
    "df_score_depth['TrainScore']=train_score\n",
    "df_score_depth['ValScore']=val_score"
   ]
  },
  {
   "cell_type": "code",
   "execution_count": 30,
   "metadata": {},
   "outputs": [
    {
     "data": {
      "text/html": [
       "<div>\n",
       "<style scoped>\n",
       "    .dataframe tbody tr th:only-of-type {\n",
       "        vertical-align: middle;\n",
       "    }\n",
       "\n",
       "    .dataframe tbody tr th {\n",
       "        vertical-align: top;\n",
       "    }\n",
       "\n",
       "    .dataframe thead th {\n",
       "        text-align: right;\n",
       "    }\n",
       "</style>\n",
       "<table border=\"1\" class=\"dataframe\">\n",
       "  <thead>\n",
       "    <tr style=\"text-align: right;\">\n",
       "      <th></th>\n",
       "      <th>Depth</th>\n",
       "      <th>TrainScore</th>\n",
       "      <th>ValScore</th>\n",
       "    </tr>\n",
       "  </thead>\n",
       "  <tbody>\n",
       "    <tr>\n",
       "      <th>0</th>\n",
       "      <td>1</td>\n",
       "      <td>0.858</td>\n",
       "      <td>0.822</td>\n",
       "    </tr>\n",
       "    <tr>\n",
       "      <th>1</th>\n",
       "      <td>2</td>\n",
       "      <td>0.858</td>\n",
       "      <td>0.822</td>\n",
       "    </tr>\n",
       "    <tr>\n",
       "      <th>2</th>\n",
       "      <td>3</td>\n",
       "      <td>0.858</td>\n",
       "      <td>0.822</td>\n",
       "    </tr>\n",
       "    <tr>\n",
       "      <th>3</th>\n",
       "      <td>4</td>\n",
       "      <td>0.861</td>\n",
       "      <td>0.842</td>\n",
       "    </tr>\n",
       "    <tr>\n",
       "      <th>4</th>\n",
       "      <td>5</td>\n",
       "      <td>0.861</td>\n",
       "      <td>0.846</td>\n",
       "    </tr>\n",
       "    <tr>\n",
       "      <th>5</th>\n",
       "      <td>6</td>\n",
       "      <td>0.863</td>\n",
       "      <td>0.837</td>\n",
       "    </tr>\n",
       "    <tr>\n",
       "      <th>6</th>\n",
       "      <td>7</td>\n",
       "      <td>0.864</td>\n",
       "      <td>0.837</td>\n",
       "    </tr>\n",
       "    <tr>\n",
       "      <th>7</th>\n",
       "      <td>8</td>\n",
       "      <td>0.865</td>\n",
       "      <td>0.836</td>\n",
       "    </tr>\n",
       "    <tr>\n",
       "      <th>8</th>\n",
       "      <td>9</td>\n",
       "      <td>0.867</td>\n",
       "      <td>0.838</td>\n",
       "    </tr>\n",
       "    <tr>\n",
       "      <th>9</th>\n",
       "      <td>10</td>\n",
       "      <td>0.870</td>\n",
       "      <td>0.837</td>\n",
       "    </tr>\n",
       "  </tbody>\n",
       "</table>\n",
       "</div>"
      ],
      "text/plain": [
       "   Depth  TrainScore  ValScore\n",
       "0      1       0.858     0.822\n",
       "1      2       0.858     0.822\n",
       "2      3       0.858     0.822\n",
       "3      4       0.861     0.842\n",
       "4      5       0.861     0.846\n",
       "5      6       0.863     0.837\n",
       "6      7       0.864     0.837\n",
       "7      8       0.865     0.836\n",
       "8      9       0.867     0.838\n",
       "9     10       0.870     0.837"
      ]
     },
     "execution_count": 30,
     "metadata": {},
     "output_type": "execute_result"
    }
   ],
   "source": [
    "df_score_depth.round(3)"
   ]
  },
  {
   "cell_type": "code",
   "execution_count": 31,
   "metadata": {},
   "outputs": [
    {
     "data": {
      "text/plain": [
       "<matplotlib.legend.Legend at 0x7f95a0173be0>"
      ]
     },
     "execution_count": 31,
     "metadata": {},
     "output_type": "execute_result"
    },
    {
     "data": {
      "image/png": "[encoded data removed]",
      "text/plain": [
       "<Figure size 432x288 with 1 Axes>"
      ]
     },
     "metadata": {
      "needs_background": "light"
     },
     "output_type": "display_data"
    }
   ],
   "source": [
    "plt.plot(para_depth, train_score, linestyle='-', label='Train Score')\n",
    "plt.plot(para_depth, val_score, linestyle='--', label = 'Validtion Score')\n",
    "plt.legend()\n",
    "#depth 4 로 설정"
   ]
  },
  {
   "cell_type": "markdown",
   "metadata": {},
   "source": [
    "### 최종 모형"
   ]
  },
  {
   "cell_type": "code",
   "execution_count": 32,
   "metadata": {},
   "outputs": [],
   "source": [
    "tree_final = DecisionTreeClassifier(min_samples_leaf = 12, min_samples_split = 20, max_depth = 8, random_state=1234)\n",
    "tree_final_fit = tree_final.fit(x_train_res, y_train_res)"
   ]
  },
  {
   "cell_type": "markdown",
   "metadata": {},
   "source": [
    "### 결과"
   ]
  },
  {
   "cell_type": "code",
   "execution_count": 33,
   "metadata": {
    "scrolled": false
   },
   "outputs": [
    {
     "name": "stdout",
     "output_type": "stream",
     "text": [
      "ROC curve AUC :  0.8635890345290353\n",
      "F1-Score :  0.640967331523427\n",
      "Accuracy on training set : 0.865\n",
      "Accuracy on test set : 0.836\n",
      "Confusion Matrix : \n",
      " [[150718  32456]\n",
      " [  3383  31991]]\n"
     ]
    }
   ],
   "source": [
    "y_pred = tree_final.predict(df_val_x)\n",
    "\n",
    "fpr, tpr, thresholds = roc_curve(df_val_y, y_pred)\n",
    "roc_auc = auc(fpr, tpr)\n",
    "\n",
    "print('ROC curve AUC : ', roc_auc)\n",
    "print('F1-Score : ', f1_score(df_val_y, y_pred))\n",
    "\n",
    "print('Accuracy on training set : {:.3f}'.format(tree_final.score(x_train_res, y_train_res)))\n",
    "print('Accuracy on test set : {:.3f}'.format(tree_final.score(df_val_x, df_val_y)))\n",
    "print('Confusion Matrix : \\n {}'.format(confusion_matrix(df_val_y, y_pred)))"
   ]
  },
  {
   "cell_type": "code",
   "execution_count": 34,
   "metadata": {},
   "outputs": [
    {
     "data": {
      "text/html": [
       "<div>\n",
       "<style scoped>\n",
       "    .dataframe tbody tr th:only-of-type {\n",
       "        vertical-align: middle;\n",
       "    }\n",
       "\n",
       "    .dataframe tbody tr th {\n",
       "        vertical-align: top;\n",
       "    }\n",
       "\n",
       "    .dataframe thead th {\n",
       "        text-align: right;\n",
       "    }\n",
       "</style>\n",
       "<table border=\"1\" class=\"dataframe\">\n",
       "  <thead>\n",
       "    <tr style=\"text-align: right;\">\n",
       "      <th></th>\n",
       "      <th>0</th>\n",
       "      <th>1</th>\n",
       "      <th>funded_amnt</th>\n",
       "      <th>total_pymnt</th>\n",
       "      <th>total_rec_int</th>\n",
       "    </tr>\n",
       "  </thead>\n",
       "  <tbody>\n",
       "    <tr>\n",
       "      <th>0</th>\n",
       "      <td>0.820327</td>\n",
       "      <td>0.179673</td>\n",
       "      <td>35000</td>\n",
       "      <td>50493.590070</td>\n",
       "      <td>15493.59</td>\n",
       "    </tr>\n",
       "    <tr>\n",
       "      <th>1</th>\n",
       "      <td>0.994163</td>\n",
       "      <td>0.005837</td>\n",
       "      <td>25000</td>\n",
       "      <td>27312.968610</td>\n",
       "      <td>2312.97</td>\n",
       "    </tr>\n",
       "    <tr>\n",
       "      <th>2</th>\n",
       "      <td>0.940323</td>\n",
       "      <td>0.059677</td>\n",
       "      <td>10000</td>\n",
       "      <td>12019.446630</td>\n",
       "      <td>2019.45</td>\n",
       "    </tr>\n",
       "    <tr>\n",
       "      <th>3</th>\n",
       "      <td>0.068689</td>\n",
       "      <td>0.931311</td>\n",
       "      <td>28200</td>\n",
       "      <td>20049.640000</td>\n",
       "      <td>5345.28</td>\n",
       "    </tr>\n",
       "    <tr>\n",
       "      <th>4</th>\n",
       "      <td>0.964113</td>\n",
       "      <td>0.035887</td>\n",
       "      <td>8000</td>\n",
       "      <td>9003.234163</td>\n",
       "      <td>1003.23</td>\n",
       "    </tr>\n",
       "    <tr>\n",
       "      <th>...</th>\n",
       "      <td>...</td>\n",
       "      <td>...</td>\n",
       "      <td>...</td>\n",
       "      <td>...</td>\n",
       "      <td>...</td>\n",
       "    </tr>\n",
       "    <tr>\n",
       "      <th>218543</th>\n",
       "      <td>0.915556</td>\n",
       "      <td>0.084444</td>\n",
       "      <td>39400</td>\n",
       "      <td>46655.197130</td>\n",
       "      <td>7255.20</td>\n",
       "    </tr>\n",
       "    <tr>\n",
       "      <th>218544</th>\n",
       "      <td>0.472401</td>\n",
       "      <td>0.527599</td>\n",
       "      <td>11200</td>\n",
       "      <td>17187.742020</td>\n",
       "      <td>5987.74</td>\n",
       "    </tr>\n",
       "    <tr>\n",
       "      <th>218545</th>\n",
       "      <td>0.948506</td>\n",
       "      <td>0.051494</td>\n",
       "      <td>25000</td>\n",
       "      <td>34290.913550</td>\n",
       "      <td>9290.91</td>\n",
       "    </tr>\n",
       "    <tr>\n",
       "      <th>218546</th>\n",
       "      <td>0.829305</td>\n",
       "      <td>0.170695</td>\n",
       "      <td>21000</td>\n",
       "      <td>22221.074110</td>\n",
       "      <td>1221.07</td>\n",
       "    </tr>\n",
       "    <tr>\n",
       "      <th>218547</th>\n",
       "      <td>0.887528</td>\n",
       "      <td>0.112472</td>\n",
       "      <td>9050</td>\n",
       "      <td>11375.747160</td>\n",
       "      <td>2325.75</td>\n",
       "    </tr>\n",
       "  </tbody>\n",
       "</table>\n",
       "<p>218548 rows × 5 columns</p>\n",
       "</div>"
      ],
      "text/plain": [
       "               0         1  funded_amnt   total_pymnt  total_rec_int\n",
       "0       0.820327  0.179673        35000  50493.590070       15493.59\n",
       "1       0.994163  0.005837        25000  27312.968610        2312.97\n",
       "2       0.940323  0.059677        10000  12019.446630        2019.45\n",
       "3       0.068689  0.931311        28200  20049.640000        5345.28\n",
       "4       0.964113  0.035887         8000   9003.234163        1003.23\n",
       "...          ...       ...          ...           ...            ...\n",
       "218543  0.915556  0.084444        39400  46655.197130        7255.20\n",
       "218544  0.472401  0.527599        11200  17187.742020        5987.74\n",
       "218545  0.948506  0.051494        25000  34290.913550        9290.91\n",
       "218546  0.829305  0.170695        21000  22221.074110        1221.07\n",
       "218547  0.887528  0.112472         9050  11375.747160        2325.75\n",
       "\n",
       "[218548 rows x 5 columns]"
      ]
     },
     "execution_count": 34,
     "metadata": {},
     "output_type": "execute_result"
    }
   ],
   "source": [
    "#1을 예측할 확률 계산\n",
    "result = pd.DataFrame(tree_final_fit.predict_proba(df_val_x))\n",
    "result['funded_amnt'] = df_val_x1['funded_amnt'].reset_index(drop = True)\n",
    "result['total_pymnt'] = df_val_x1['total_pymnt'].reset_index(drop = True)\n",
    "result['total_rec_int'] = df_val_x1['total_rec_int'].reset_index(drop = True)\n",
    "result"
   ]
  },
  {
   "cell_type": "markdown",
   "metadata": {},
   "source": [
    "### custom threshold function 모형 2"
   ]
  },
  {
   "cell_type": "code",
   "execution_count": 35,
   "metadata": {},
   "outputs": [],
   "source": [
    "fpr,tpr,thresholds = roc_curve(df_val_y, result.iloc[:,1:2])"
   ]
  },
  {
   "cell_type": "code",
   "execution_count": 36,
   "metadata": {},
   "outputs": [
    {
     "data": {
      "text/html": [
       "<div>\n",
       "<style scoped>\n",
       "    .dataframe tbody tr th:only-of-type {\n",
       "        vertical-align: middle;\n",
       "    }\n",
       "\n",
       "    .dataframe tbody tr th {\n",
       "        vertical-align: top;\n",
       "    }\n",
       "\n",
       "    .dataframe thead th {\n",
       "        text-align: right;\n",
       "    }\n",
       "</style>\n",
       "<table border=\"1\" class=\"dataframe\">\n",
       "  <thead>\n",
       "    <tr style=\"text-align: right;\">\n",
       "      <th></th>\n",
       "      <th>0</th>\n",
       "      <th>1</th>\n",
       "      <th>funded_amnt</th>\n",
       "      <th>total_pymnt</th>\n",
       "      <th>total_rec_int</th>\n",
       "      <th>df_val_y</th>\n",
       "    </tr>\n",
       "  </thead>\n",
       "  <tbody>\n",
       "    <tr>\n",
       "      <th>0</th>\n",
       "      <td>0.820327</td>\n",
       "      <td>0.179673</td>\n",
       "      <td>35000</td>\n",
       "      <td>50493.590070</td>\n",
       "      <td>15493.59</td>\n",
       "      <td>0</td>\n",
       "    </tr>\n",
       "    <tr>\n",
       "      <th>1</th>\n",
       "      <td>0.994163</td>\n",
       "      <td>0.005837</td>\n",
       "      <td>25000</td>\n",
       "      <td>27312.968610</td>\n",
       "      <td>2312.97</td>\n",
       "      <td>0</td>\n",
       "    </tr>\n",
       "    <tr>\n",
       "      <th>2</th>\n",
       "      <td>0.940323</td>\n",
       "      <td>0.059677</td>\n",
       "      <td>10000</td>\n",
       "      <td>12019.446630</td>\n",
       "      <td>2019.45</td>\n",
       "      <td>0</td>\n",
       "    </tr>\n",
       "    <tr>\n",
       "      <th>3</th>\n",
       "      <td>0.068689</td>\n",
       "      <td>0.931311</td>\n",
       "      <td>28200</td>\n",
       "      <td>20049.640000</td>\n",
       "      <td>5345.28</td>\n",
       "      <td>1</td>\n",
       "    </tr>\n",
       "    <tr>\n",
       "      <th>4</th>\n",
       "      <td>0.964113</td>\n",
       "      <td>0.035887</td>\n",
       "      <td>8000</td>\n",
       "      <td>9003.234163</td>\n",
       "      <td>1003.23</td>\n",
       "      <td>0</td>\n",
       "    </tr>\n",
       "    <tr>\n",
       "      <th>...</th>\n",
       "      <td>...</td>\n",
       "      <td>...</td>\n",
       "      <td>...</td>\n",
       "      <td>...</td>\n",
       "      <td>...</td>\n",
       "      <td>...</td>\n",
       "    </tr>\n",
       "    <tr>\n",
       "      <th>218543</th>\n",
       "      <td>0.915556</td>\n",
       "      <td>0.084444</td>\n",
       "      <td>39400</td>\n",
       "      <td>46655.197130</td>\n",
       "      <td>7255.20</td>\n",
       "      <td>0</td>\n",
       "    </tr>\n",
       "    <tr>\n",
       "      <th>218544</th>\n",
       "      <td>0.472401</td>\n",
       "      <td>0.527599</td>\n",
       "      <td>11200</td>\n",
       "      <td>17187.742020</td>\n",
       "      <td>5987.74</td>\n",
       "      <td>0</td>\n",
       "    </tr>\n",
       "    <tr>\n",
       "      <th>218545</th>\n",
       "      <td>0.948506</td>\n",
       "      <td>0.051494</td>\n",
       "      <td>25000</td>\n",
       "      <td>34290.913550</td>\n",
       "      <td>9290.91</td>\n",
       "      <td>0</td>\n",
       "    </tr>\n",
       "    <tr>\n",
       "      <th>218546</th>\n",
       "      <td>0.829305</td>\n",
       "      <td>0.170695</td>\n",
       "      <td>21000</td>\n",
       "      <td>22221.074110</td>\n",
       "      <td>1221.07</td>\n",
       "      <td>0</td>\n",
       "    </tr>\n",
       "    <tr>\n",
       "      <th>218547</th>\n",
       "      <td>0.887528</td>\n",
       "      <td>0.112472</td>\n",
       "      <td>9050</td>\n",
       "      <td>11375.747160</td>\n",
       "      <td>2325.75</td>\n",
       "      <td>0</td>\n",
       "    </tr>\n",
       "  </tbody>\n",
       "</table>\n",
       "<p>218548 rows × 6 columns</p>\n",
       "</div>"
      ],
      "text/plain": [
       "               0         1  funded_amnt   total_pymnt  total_rec_int  df_val_y\n",
       "0       0.820327  0.179673        35000  50493.590070       15493.59         0\n",
       "1       0.994163  0.005837        25000  27312.968610        2312.97         0\n",
       "2       0.940323  0.059677        10000  12019.446630        2019.45         0\n",
       "3       0.068689  0.931311        28200  20049.640000        5345.28         1\n",
       "4       0.964113  0.035887         8000   9003.234163        1003.23         0\n",
       "...          ...       ...          ...           ...            ...       ...\n",
       "218543  0.915556  0.084444        39400  46655.197130        7255.20         0\n",
       "218544  0.472401  0.527599        11200  17187.742020        5987.74         0\n",
       "218545  0.948506  0.051494        25000  34290.913550        9290.91         0\n",
       "218546  0.829305  0.170695        21000  22221.074110        1221.07         0\n",
       "218547  0.887528  0.112472         9050  11375.747160        2325.75         0\n",
       "\n",
       "[218548 rows x 6 columns]"
      ]
     },
     "execution_count": 36,
     "metadata": {},
     "output_type": "execute_result"
    }
   ],
   "source": [
    "#예측 확률과 실제 label data frame 생성\n",
    "result['df_val_y'] = pd.DataFrame(df_val_y).reset_index(drop = True)\n",
    "result"
   ]
  },
  {
   "cell_type": "code",
   "execution_count": 37,
   "metadata": {},
   "outputs": [
    {
     "data": {
      "text/html": [
       "<div>\n",
       "<style scoped>\n",
       "    .dataframe tbody tr th:only-of-type {\n",
       "        vertical-align: middle;\n",
       "    }\n",
       "\n",
       "    .dataframe tbody tr th {\n",
       "        vertical-align: top;\n",
       "    }\n",
       "\n",
       "    .dataframe thead th {\n",
       "        text-align: right;\n",
       "    }\n",
       "</style>\n",
       "<table border=\"1\" class=\"dataframe\">\n",
       "  <thead>\n",
       "    <tr style=\"text-align: right;\">\n",
       "      <th></th>\n",
       "      <th>0</th>\n",
       "      <th>1</th>\n",
       "      <th>funded_amnt</th>\n",
       "      <th>total_pymnt</th>\n",
       "      <th>total_rec_int</th>\n",
       "      <th>df_val_y</th>\n",
       "      <th>tot</th>\n",
       "    </tr>\n",
       "  </thead>\n",
       "  <tbody>\n",
       "    <tr>\n",
       "      <th>0</th>\n",
       "      <td>0.820327</td>\n",
       "      <td>0.179673</td>\n",
       "      <td>35000</td>\n",
       "      <td>50493.590070</td>\n",
       "      <td>15493.59</td>\n",
       "      <td>0</td>\n",
       "      <td>-15493.590070</td>\n",
       "    </tr>\n",
       "    <tr>\n",
       "      <th>1</th>\n",
       "      <td>0.994163</td>\n",
       "      <td>0.005837</td>\n",
       "      <td>25000</td>\n",
       "      <td>27312.968610</td>\n",
       "      <td>2312.97</td>\n",
       "      <td>0</td>\n",
       "      <td>-2312.968610</td>\n",
       "    </tr>\n",
       "    <tr>\n",
       "      <th>2</th>\n",
       "      <td>0.940323</td>\n",
       "      <td>0.059677</td>\n",
       "      <td>10000</td>\n",
       "      <td>12019.446630</td>\n",
       "      <td>2019.45</td>\n",
       "      <td>0</td>\n",
       "      <td>-2019.446630</td>\n",
       "    </tr>\n",
       "    <tr>\n",
       "      <th>3</th>\n",
       "      <td>0.068689</td>\n",
       "      <td>0.931311</td>\n",
       "      <td>28200</td>\n",
       "      <td>20049.640000</td>\n",
       "      <td>5345.28</td>\n",
       "      <td>1</td>\n",
       "      <td>8150.360000</td>\n",
       "    </tr>\n",
       "    <tr>\n",
       "      <th>4</th>\n",
       "      <td>0.964113</td>\n",
       "      <td>0.035887</td>\n",
       "      <td>8000</td>\n",
       "      <td>9003.234163</td>\n",
       "      <td>1003.23</td>\n",
       "      <td>0</td>\n",
       "      <td>-1003.234163</td>\n",
       "    </tr>\n",
       "    <tr>\n",
       "      <th>...</th>\n",
       "      <td>...</td>\n",
       "      <td>...</td>\n",
       "      <td>...</td>\n",
       "      <td>...</td>\n",
       "      <td>...</td>\n",
       "      <td>...</td>\n",
       "      <td>...</td>\n",
       "    </tr>\n",
       "    <tr>\n",
       "      <th>218543</th>\n",
       "      <td>0.915556</td>\n",
       "      <td>0.084444</td>\n",
       "      <td>39400</td>\n",
       "      <td>46655.197130</td>\n",
       "      <td>7255.20</td>\n",
       "      <td>0</td>\n",
       "      <td>-7255.197130</td>\n",
       "    </tr>\n",
       "    <tr>\n",
       "      <th>218544</th>\n",
       "      <td>0.472401</td>\n",
       "      <td>0.527599</td>\n",
       "      <td>11200</td>\n",
       "      <td>17187.742020</td>\n",
       "      <td>5987.74</td>\n",
       "      <td>0</td>\n",
       "      <td>-5987.742020</td>\n",
       "    </tr>\n",
       "    <tr>\n",
       "      <th>218545</th>\n",
       "      <td>0.948506</td>\n",
       "      <td>0.051494</td>\n",
       "      <td>25000</td>\n",
       "      <td>34290.913550</td>\n",
       "      <td>9290.91</td>\n",
       "      <td>0</td>\n",
       "      <td>-9290.913550</td>\n",
       "    </tr>\n",
       "    <tr>\n",
       "      <th>218546</th>\n",
       "      <td>0.829305</td>\n",
       "      <td>0.170695</td>\n",
       "      <td>21000</td>\n",
       "      <td>22221.074110</td>\n",
       "      <td>1221.07</td>\n",
       "      <td>0</td>\n",
       "      <td>-1221.074110</td>\n",
       "    </tr>\n",
       "    <tr>\n",
       "      <th>218547</th>\n",
       "      <td>0.887528</td>\n",
       "      <td>0.112472</td>\n",
       "      <td>9050</td>\n",
       "      <td>11375.747160</td>\n",
       "      <td>2325.75</td>\n",
       "      <td>0</td>\n",
       "      <td>-2325.747160</td>\n",
       "    </tr>\n",
       "  </tbody>\n",
       "</table>\n",
       "<p>218548 rows × 7 columns</p>\n",
       "</div>"
      ],
      "text/plain": [
       "               0         1  funded_amnt   total_pymnt  total_rec_int  \\\n",
       "0       0.820327  0.179673        35000  50493.590070       15493.59   \n",
       "1       0.994163  0.005837        25000  27312.968610        2312.97   \n",
       "2       0.940323  0.059677        10000  12019.446630        2019.45   \n",
       "3       0.068689  0.931311        28200  20049.640000        5345.28   \n",
       "4       0.964113  0.035887         8000   9003.234163        1003.23   \n",
       "...          ...       ...          ...           ...            ...   \n",
       "218543  0.915556  0.084444        39400  46655.197130        7255.20   \n",
       "218544  0.472401  0.527599        11200  17187.742020        5987.74   \n",
       "218545  0.948506  0.051494        25000  34290.913550        9290.91   \n",
       "218546  0.829305  0.170695        21000  22221.074110        1221.07   \n",
       "218547  0.887528  0.112472         9050  11375.747160        2325.75   \n",
       "\n",
       "        df_val_y           tot  \n",
       "0              0 -15493.590070  \n",
       "1              0  -2312.968610  \n",
       "2              0  -2019.446630  \n",
       "3              1   8150.360000  \n",
       "4              0  -1003.234163  \n",
       "...          ...           ...  \n",
       "218543         0  -7255.197130  \n",
       "218544         0  -5987.742020  \n",
       "218545         0  -9290.913550  \n",
       "218546         0  -1221.074110  \n",
       "218547         0  -2325.747160  \n",
       "\n",
       "[218548 rows x 7 columns]"
      ]
     },
     "execution_count": 37,
     "metadata": {},
     "output_type": "execute_result"
    }
   ],
   "source": [
    "result['tot'] = result['funded_amnt'] - result['total_pymnt']\n",
    "result"
   ]
  },
  {
   "cell_type": "code",
   "execution_count": 38,
   "metadata": {},
   "outputs": [
    {
     "data": {
      "text/html": [
       "<div>\n",
       "<style scoped>\n",
       "    .dataframe tbody tr th:only-of-type {\n",
       "        vertical-align: middle;\n",
       "    }\n",
       "\n",
       "    .dataframe tbody tr th {\n",
       "        vertical-align: top;\n",
       "    }\n",
       "\n",
       "    .dataframe thead th {\n",
       "        text-align: right;\n",
       "    }\n",
       "</style>\n",
       "<table border=\"1\" class=\"dataframe\">\n",
       "  <thead>\n",
       "    <tr style=\"text-align: right;\">\n",
       "      <th></th>\n",
       "      <th>fpr</th>\n",
       "      <th>tpr</th>\n",
       "      <th>thresholds</th>\n",
       "    </tr>\n",
       "  </thead>\n",
       "  <tbody>\n",
       "    <tr>\n",
       "      <th>0</th>\n",
       "      <td>0.000000</td>\n",
       "      <td>0.000000</td>\n",
       "      <td>1.976411</td>\n",
       "    </tr>\n",
       "    <tr>\n",
       "      <th>1</th>\n",
       "      <td>0.000868</td>\n",
       "      <td>0.021711</td>\n",
       "      <td>0.976411</td>\n",
       "    </tr>\n",
       "    <tr>\n",
       "      <th>2</th>\n",
       "      <td>0.001032</td>\n",
       "      <td>0.024934</td>\n",
       "      <td>0.972840</td>\n",
       "    </tr>\n",
       "    <tr>\n",
       "      <th>3</th>\n",
       "      <td>0.002064</td>\n",
       "      <td>0.052383</td>\n",
       "      <td>0.969280</td>\n",
       "    </tr>\n",
       "    <tr>\n",
       "      <th>4</th>\n",
       "      <td>0.003428</td>\n",
       "      <td>0.078871</td>\n",
       "      <td>0.963118</td>\n",
       "    </tr>\n",
       "    <tr>\n",
       "      <th>...</th>\n",
       "      <td>...</td>\n",
       "      <td>...</td>\n",
       "      <td>...</td>\n",
       "    </tr>\n",
       "    <tr>\n",
       "      <th>235</th>\n",
       "      <td>0.834573</td>\n",
       "      <td>0.998191</td>\n",
       "      <td>0.011711</td>\n",
       "    </tr>\n",
       "    <tr>\n",
       "      <th>236</th>\n",
       "      <td>0.905986</td>\n",
       "      <td>0.999095</td>\n",
       "      <td>0.011249</td>\n",
       "    </tr>\n",
       "    <tr>\n",
       "      <th>237</th>\n",
       "      <td>0.907017</td>\n",
       "      <td>0.999152</td>\n",
       "      <td>0.007519</td>\n",
       "    </tr>\n",
       "    <tr>\n",
       "      <th>238</th>\n",
       "      <td>0.999803</td>\n",
       "      <td>1.000000</td>\n",
       "      <td>0.005837</td>\n",
       "    </tr>\n",
       "    <tr>\n",
       "      <th>239</th>\n",
       "      <td>1.000000</td>\n",
       "      <td>1.000000</td>\n",
       "      <td>0.000000</td>\n",
       "    </tr>\n",
       "  </tbody>\n",
       "</table>\n",
       "<p>240 rows × 3 columns</p>\n",
       "</div>"
      ],
      "text/plain": [
       "          fpr       tpr  thresholds\n",
       "0    0.000000  0.000000    1.976411\n",
       "1    0.000868  0.021711    0.976411\n",
       "2    0.001032  0.024934    0.972840\n",
       "3    0.002064  0.052383    0.969280\n",
       "4    0.003428  0.078871    0.963118\n",
       "..        ...       ...         ...\n",
       "235  0.834573  0.998191    0.011711\n",
       "236  0.905986  0.999095    0.011249\n",
       "237  0.907017  0.999152    0.007519\n",
       "238  0.999803  1.000000    0.005837\n",
       "239  1.000000  1.000000    0.000000\n",
       "\n",
       "[240 rows x 3 columns]"
      ]
     },
     "execution_count": 38,
     "metadata": {},
     "output_type": "execute_result"
    }
   ],
   "source": [
    "#최적 threshold 찾기 \n",
    "\n",
    "#fpr, tpr, threshold 로 구성된 dataframe 생성하기\n",
    "roc_result = pd.DataFrame([fpr,tpr,thresholds], index=['fpr','tpr','thresholds']).T\n",
    "# (1-fpr)+(tpr)값을 계산하여 'best'라는 이름의 칼럼 생성하기\n",
    "# roc_result['best'] = (1-roc_result.fpr)+(roc_result.tpr) # specificity + sensitivity\n",
    "# 이 best를 계산하는 방법은 여러가지가 있습니다. 우리는 Youden Index를 기준으로 합니다. (정답은 없음)\n",
    "# roc_result = roc_result[roc_result['thresholds'] < 1]\n",
    "roc_result"
   ]
  },
  {
   "cell_type": "code",
   "execution_count": 39,
   "metadata": {},
   "outputs": [],
   "source": [
    "func_value = []\n",
    "\n",
    "for i in range(240):\n",
    "    result['pred'] = np.where(result.iloc[:, 1] > roc_result['thresholds'][i], 1, 0)\n",
    "    \n",
    "    w1 = sum(result.tot[(result['pred'] == 0) & (result['df_val_y'] == 1)])\n",
    "    w2 = sum(result.total_rec_int[(result['pred'] == 1) & (result['df_val_y'] == 0)])\n",
    "    w_sum = w1+w2\n",
    "    \n",
    "    value = ((w1 / w_sum) * (1 - roc_result['tpr'][i])) + ((w2 / w_sum) * roc_result['fpr'][i])\n",
    "    \n",
    "    func_value.append(value)"
   ]
  },
  {
   "cell_type": "code",
   "execution_count": 40,
   "metadata": {},
   "outputs": [
    {
     "data": {
      "text/html": [
       "<div>\n",
       "<style scoped>\n",
       "    .dataframe tbody tr th:only-of-type {\n",
       "        vertical-align: middle;\n",
       "    }\n",
       "\n",
       "    .dataframe tbody tr th {\n",
       "        vertical-align: top;\n",
       "    }\n",
       "\n",
       "    .dataframe thead th {\n",
       "        text-align: right;\n",
       "    }\n",
       "</style>\n",
       "<table border=\"1\" class=\"dataframe\">\n",
       "  <thead>\n",
       "    <tr style=\"text-align: right;\">\n",
       "      <th></th>\n",
       "      <th>fpr</th>\n",
       "      <th>tpr</th>\n",
       "      <th>thresholds</th>\n",
       "      <th>decision</th>\n",
       "    </tr>\n",
       "  </thead>\n",
       "  <tbody>\n",
       "    <tr>\n",
       "      <th>1</th>\n",
       "      <td>0.000868</td>\n",
       "      <td>0.021711</td>\n",
       "      <td>0.976411</td>\n",
       "      <td>0.978289</td>\n",
       "    </tr>\n",
       "    <tr>\n",
       "      <th>2</th>\n",
       "      <td>0.001032</td>\n",
       "      <td>0.024934</td>\n",
       "      <td>0.972840</td>\n",
       "      <td>0.971485</td>\n",
       "    </tr>\n",
       "    <tr>\n",
       "      <th>3</th>\n",
       "      <td>0.002064</td>\n",
       "      <td>0.052383</td>\n",
       "      <td>0.969280</td>\n",
       "      <td>0.943460</td>\n",
       "    </tr>\n",
       "    <tr>\n",
       "      <th>4</th>\n",
       "      <td>0.003428</td>\n",
       "      <td>0.078871</td>\n",
       "      <td>0.963118</td>\n",
       "      <td>0.916102</td>\n",
       "    </tr>\n",
       "    <tr>\n",
       "      <th>5</th>\n",
       "      <td>0.003963</td>\n",
       "      <td>0.089444</td>\n",
       "      <td>0.956904</td>\n",
       "      <td>0.900815</td>\n",
       "    </tr>\n",
       "    <tr>\n",
       "      <th>...</th>\n",
       "      <td>...</td>\n",
       "      <td>...</td>\n",
       "      <td>...</td>\n",
       "      <td>...</td>\n",
       "    </tr>\n",
       "    <tr>\n",
       "      <th>235</th>\n",
       "      <td>0.834573</td>\n",
       "      <td>0.998191</td>\n",
       "      <td>0.011711</td>\n",
       "      <td>0.833219</td>\n",
       "    </tr>\n",
       "    <tr>\n",
       "      <th>236</th>\n",
       "      <td>0.905986</td>\n",
       "      <td>0.999095</td>\n",
       "      <td>0.011249</td>\n",
       "      <td>0.904810</td>\n",
       "    </tr>\n",
       "    <tr>\n",
       "      <th>237</th>\n",
       "      <td>0.907017</td>\n",
       "      <td>0.999152</td>\n",
       "      <td>0.007519</td>\n",
       "      <td>0.906602</td>\n",
       "    </tr>\n",
       "    <tr>\n",
       "      <th>238</th>\n",
       "      <td>0.999803</td>\n",
       "      <td>1.000000</td>\n",
       "      <td>0.005837</td>\n",
       "      <td>0.999355</td>\n",
       "    </tr>\n",
       "    <tr>\n",
       "      <th>239</th>\n",
       "      <td>1.000000</td>\n",
       "      <td>1.000000</td>\n",
       "      <td>0.000000</td>\n",
       "      <td>1.000000</td>\n",
       "    </tr>\n",
       "  </tbody>\n",
       "</table>\n",
       "<p>239 rows × 4 columns</p>\n",
       "</div>"
      ],
      "text/plain": [
       "          fpr       tpr  thresholds  decision\n",
       "1    0.000868  0.021711    0.976411  0.978289\n",
       "2    0.001032  0.024934    0.972840  0.971485\n",
       "3    0.002064  0.052383    0.969280  0.943460\n",
       "4    0.003428  0.078871    0.963118  0.916102\n",
       "5    0.003963  0.089444    0.956904  0.900815\n",
       "..        ...       ...         ...       ...\n",
       "235  0.834573  0.998191    0.011711  0.833219\n",
       "236  0.905986  0.999095    0.011249  0.904810\n",
       "237  0.907017  0.999152    0.007519  0.906602\n",
       "238  0.999803  1.000000    0.005837  0.999355\n",
       "239  1.000000  1.000000    0.000000  1.000000\n",
       "\n",
       "[239 rows x 4 columns]"
      ]
     },
     "execution_count": 40,
     "metadata": {},
     "output_type": "execute_result"
    }
   ],
   "source": [
    "roc_result['decision'] = func_value\n",
    "roc_result = roc_result[roc_result['thresholds'] <= 1]\n",
    "roc_result"
   ]
  },
  {
   "cell_type": "code",
   "execution_count": 41,
   "metadata": {},
   "outputs": [
    {
     "data": {
      "text/html": [
       "<div>\n",
       "<style scoped>\n",
       "    .dataframe tbody tr th:only-of-type {\n",
       "        vertical-align: middle;\n",
       "    }\n",
       "\n",
       "    .dataframe tbody tr th {\n",
       "        vertical-align: top;\n",
       "    }\n",
       "\n",
       "    .dataframe thead th {\n",
       "        text-align: right;\n",
       "    }\n",
       "</style>\n",
       "<table border=\"1\" class=\"dataframe\">\n",
       "  <thead>\n",
       "    <tr style=\"text-align: right;\">\n",
       "      <th></th>\n",
       "      <th>fpr</th>\n",
       "      <th>tpr</th>\n",
       "      <th>thresholds</th>\n",
       "      <th>decision</th>\n",
       "    </tr>\n",
       "  </thead>\n",
       "  <tbody>\n",
       "    <tr>\n",
       "      <th>86</th>\n",
       "      <td>0.135292</td>\n",
       "      <td>0.847713</td>\n",
       "      <td>0.661643</td>\n",
       "      <td>0.140670</td>\n",
       "    </tr>\n",
       "    <tr>\n",
       "      <th>87</th>\n",
       "      <td>0.137372</td>\n",
       "      <td>0.851586</td>\n",
       "      <td>0.648396</td>\n",
       "      <td>0.140715</td>\n",
       "    </tr>\n",
       "    <tr>\n",
       "      <th>85</th>\n",
       "      <td>0.131394</td>\n",
       "      <td>0.839006</td>\n",
       "      <td>0.666667</td>\n",
       "      <td>0.140958</td>\n",
       "    </tr>\n",
       "    <tr>\n",
       "      <th>88</th>\n",
       "      <td>0.139447</td>\n",
       "      <td>0.854780</td>\n",
       "      <td>0.643836</td>\n",
       "      <td>0.141074</td>\n",
       "    </tr>\n",
       "    <tr>\n",
       "      <th>89</th>\n",
       "      <td>0.139731</td>\n",
       "      <td>0.855120</td>\n",
       "      <td>0.625000</td>\n",
       "      <td>0.141091</td>\n",
       "    </tr>\n",
       "    <tr>\n",
       "      <th>...</th>\n",
       "      <td>...</td>\n",
       "      <td>...</td>\n",
       "      <td>...</td>\n",
       "      <td>...</td>\n",
       "    </tr>\n",
       "    <tr>\n",
       "      <th>3</th>\n",
       "      <td>0.002064</td>\n",
       "      <td>0.052383</td>\n",
       "      <td>0.969280</td>\n",
       "      <td>0.943460</td>\n",
       "    </tr>\n",
       "    <tr>\n",
       "      <th>2</th>\n",
       "      <td>0.001032</td>\n",
       "      <td>0.024934</td>\n",
       "      <td>0.972840</td>\n",
       "      <td>0.971485</td>\n",
       "    </tr>\n",
       "    <tr>\n",
       "      <th>1</th>\n",
       "      <td>0.000868</td>\n",
       "      <td>0.021711</td>\n",
       "      <td>0.976411</td>\n",
       "      <td>0.978289</td>\n",
       "    </tr>\n",
       "    <tr>\n",
       "      <th>238</th>\n",
       "      <td>0.999803</td>\n",
       "      <td>1.000000</td>\n",
       "      <td>0.005837</td>\n",
       "      <td>0.999355</td>\n",
       "    </tr>\n",
       "    <tr>\n",
       "      <th>239</th>\n",
       "      <td>1.000000</td>\n",
       "      <td>1.000000</td>\n",
       "      <td>0.000000</td>\n",
       "      <td>1.000000</td>\n",
       "    </tr>\n",
       "  </tbody>\n",
       "</table>\n",
       "<p>239 rows × 4 columns</p>\n",
       "</div>"
      ],
      "text/plain": [
       "          fpr       tpr  thresholds  decision\n",
       "86   0.135292  0.847713    0.661643  0.140670\n",
       "87   0.137372  0.851586    0.648396  0.140715\n",
       "85   0.131394  0.839006    0.666667  0.140958\n",
       "88   0.139447  0.854780    0.643836  0.141074\n",
       "89   0.139731  0.855120    0.625000  0.141091\n",
       "..        ...       ...         ...       ...\n",
       "3    0.002064  0.052383    0.969280  0.943460\n",
       "2    0.001032  0.024934    0.972840  0.971485\n",
       "1    0.000868  0.021711    0.976411  0.978289\n",
       "238  0.999803  1.000000    0.005837  0.999355\n",
       "239  1.000000  1.000000    0.000000  1.000000\n",
       "\n",
       "[239 rows x 4 columns]"
      ]
     },
     "execution_count": 41,
     "metadata": {},
     "output_type": "execute_result"
    }
   ],
   "source": [
    "roc_result.sort_values(by = 'decision')"
   ]
  },
  {
   "cell_type": "code",
   "execution_count": 42,
   "metadata": {},
   "outputs": [
    {
     "data": {
      "text/plain": [
       "<AxesSubplot:xlabel='thresholds', ylabel='decision'>"
      ]
     },
     "execution_count": 42,
     "metadata": {},
     "output_type": "execute_result"
    },
    {
     "data": {
      "image/png": "[encoded data removed]",
      "text/plain": [
       "<Figure size 432x288 with 1 Axes>"
      ]
     },
     "metadata": {
      "needs_background": "light"
     },
     "output_type": "display_data"
    }
   ],
   "source": [
    "sns.lineplot(x = 'thresholds', y = 'decision', data = roc_result)"
   ]
  },
  {
   "cell_type": "code",
   "execution_count": 43,
   "metadata": {},
   "outputs": [
    {
     "data": {
      "text/plain": [
       "0.6616428033157498"
      ]
     },
     "execution_count": 43,
     "metadata": {},
     "output_type": "execute_result"
    }
   ],
   "source": [
    "min_loss = min(func_value)\n",
    "min_loss_index = roc_result.decision.idxmin()\n",
    "\n",
    "optimal_threshold=roc_result.thresholds[roc_result.decision.idxmin()] \n",
    "optimal_index = roc_result.index[roc_result.thresholds==optimal_threshold]\n",
    "#roc_result.best.idxmax()는 best값이 max 일때의 index를 의미\n",
    "optimal_threshold"
   ]
  },
  {
   "cell_type": "code",
   "execution_count": 44,
   "metadata": {},
   "outputs": [
    {
     "name": "stderr",
     "output_type": "stream",
     "text": [
      "findfont: Font family ['Malgun Gothic'] not found. Falling back to DejaVu Sans.\n",
      "findfont: Font family ['Malgun Gothic'] not found. Falling back to DejaVu Sans.\n",
      "findfont: Font family ['Malgun Gothic'] not found. Falling back to DejaVu Sans.\n"
     ]
    },
    {
     "data": {
      "image/png": "[encoded data removed]",
      "text/plain": [
       "<Figure size 864x432 with 1 Axes>"
      ]
     },
     "metadata": {
      "needs_background": "light"
     },
     "output_type": "display_data"
    }
   ],
   "source": [
    "plt.figure(figsize=(12,6))\n",
    "plt.plot(roc_result.index[1:], roc_result.decision[1:], label='Loss Function')\n",
    "plt.plot(roc_result.index[1:], roc_result.thresholds[1:], label='Thresholds')\n",
    "plt.scatter(optimal_index, optimal_threshold)\n",
    "plt.scatter(min_loss_index, min_loss)\n",
    "plt.plot([min_loss_index, min_loss_index], [0, 1.2], c='red', linestyle='--', label='Optimization Point')\n",
    "plt.text(x=roc_result.decision.idxmin()+100, y=min_loss-0.05, s='Optimal Threshold: {:.2f}'.format(optimal_threshold), fontsize=12)\n",
    "plt.xlim([0, 241])\n",
    "plt.ylim([0,1.2])\n",
    "plt.xlabel('Thresholds Index', fontsize=15)\n",
    "plt.ylabel('Loss Function and Thresholds', fontsize=15)\n",
    "plt.title('Loss Minimization and Optimal Threshold', fontsize=20)\n",
    "plt.grid()\n",
    "plt.legend(loc='upper right',fontsize=15)\n",
    "plt.show()"
   ]
  },
  {
   "cell_type": "code",
   "execution_count": 45,
   "metadata": {},
   "outputs": [
    {
     "data": {
      "text/html": [
       "<div>\n",
       "<style scoped>\n",
       "    .dataframe tbody tr th:only-of-type {\n",
       "        vertical-align: middle;\n",
       "    }\n",
       "\n",
       "    .dataframe tbody tr th {\n",
       "        vertical-align: top;\n",
       "    }\n",
       "\n",
       "    .dataframe thead th {\n",
       "        text-align: right;\n",
       "    }\n",
       "</style>\n",
       "<table border=\"1\" class=\"dataframe\">\n",
       "  <thead>\n",
       "    <tr style=\"text-align: right;\">\n",
       "      <th></th>\n",
       "      <th>0</th>\n",
       "      <th>1</th>\n",
       "    </tr>\n",
       "  </thead>\n",
       "  <tbody>\n",
       "    <tr>\n",
       "      <th>0</th>\n",
       "      <td>0.546419</td>\n",
       "      <td>0.453581</td>\n",
       "    </tr>\n",
       "    <tr>\n",
       "      <th>1</th>\n",
       "      <td>0.953282</td>\n",
       "      <td>0.046718</td>\n",
       "    </tr>\n",
       "    <tr>\n",
       "      <th>2</th>\n",
       "      <td>0.915556</td>\n",
       "      <td>0.084444</td>\n",
       "    </tr>\n",
       "    <tr>\n",
       "      <th>3</th>\n",
       "      <td>0.982733</td>\n",
       "      <td>0.017267</td>\n",
       "    </tr>\n",
       "    <tr>\n",
       "      <th>4</th>\n",
       "      <td>0.562207</td>\n",
       "      <td>0.437793</td>\n",
       "    </tr>\n",
       "  </tbody>\n",
       "</table>\n",
       "</div>"
      ],
      "text/plain": [
       "          0         1\n",
       "0  0.546419  0.453581\n",
       "1  0.953282  0.046718\n",
       "2  0.915556  0.084444\n",
       "3  0.982733  0.017267\n",
       "4  0.562207  0.437793"
      ]
     },
     "execution_count": 45,
     "metadata": {},
     "output_type": "execute_result"
    }
   ],
   "source": [
    "test_result = pd.DataFrame(tree_final_fit.predict_proba(df_test_x))\n",
    "test_result.head()"
   ]
  },
  {
   "cell_type": "code",
   "execution_count": 46,
   "metadata": {},
   "outputs": [],
   "source": [
    "## Confusion Matrix\n",
    "#각 모형 별로 optimal threshold를 이용하여 binary (0 or 1) 로 예측\n",
    "test_result['dt_binary']=np.where(test_result.iloc[:,1:2]>=optimal_threshold,1,0)"
   ]
  },
  {
   "cell_type": "code",
   "execution_count": 47,
   "metadata": {},
   "outputs": [
    {
     "name": "stderr",
     "output_type": "stream",
     "text": [
      "/Users/minseong/opt/anaconda3/lib/python3.9/site-packages/matplotlib/backends/backend_agg.py:240: RuntimeWarning: Glyph 50696 missing from current font.\n",
      "  font.set_text(s, 0.0, flags=flags)\n",
      "/Users/minseong/opt/anaconda3/lib/python3.9/site-packages/matplotlib/backends/backend_agg.py:240: RuntimeWarning: Glyph 52769 missing from current font.\n",
      "  font.set_text(s, 0.0, flags=flags)\n",
      "/Users/minseong/opt/anaconda3/lib/python3.9/site-packages/matplotlib/backends/backend_agg.py:240: RuntimeWarning: Glyph 44050 missing from current font.\n",
      "  font.set_text(s, 0.0, flags=flags)\n",
      "/Users/minseong/opt/anaconda3/lib/python3.9/site-packages/matplotlib/backends/backend_agg.py:240: RuntimeWarning: Glyph 49345 missing from current font.\n",
      "  font.set_text(s, 0.0, flags=flags)\n",
      "/Users/minseong/opt/anaconda3/lib/python3.9/site-packages/matplotlib/backends/backend_agg.py:240: RuntimeWarning: Glyph 54872 missing from current font.\n",
      "  font.set_text(s, 0.0, flags=flags)\n",
      "/Users/minseong/opt/anaconda3/lib/python3.9/site-packages/matplotlib/backends/backend_agg.py:240: RuntimeWarning: Glyph 48512 missing from current font.\n",
      "  font.set_text(s, 0.0, flags=flags)\n",
      "/Users/minseong/opt/anaconda3/lib/python3.9/site-packages/matplotlib/backends/backend_agg.py:240: RuntimeWarning: Glyph 46020 missing from current font.\n",
      "  font.set_text(s, 0.0, flags=flags)\n",
      "/Users/minseong/opt/anaconda3/lib/python3.9/site-packages/matplotlib/backends/backend_agg.py:203: RuntimeWarning: Glyph 50696 missing from current font.\n",
      "  font.set_text(s, 0, flags=flags)\n",
      "/Users/minseong/opt/anaconda3/lib/python3.9/site-packages/matplotlib/backends/backend_agg.py:203: RuntimeWarning: Glyph 52769 missing from current font.\n",
      "  font.set_text(s, 0, flags=flags)\n",
      "/Users/minseong/opt/anaconda3/lib/python3.9/site-packages/matplotlib/backends/backend_agg.py:203: RuntimeWarning: Glyph 44050 missing from current font.\n",
      "  font.set_text(s, 0, flags=flags)\n",
      "/Users/minseong/opt/anaconda3/lib/python3.9/site-packages/matplotlib/backends/backend_agg.py:203: RuntimeWarning: Glyph 49345 missing from current font.\n",
      "  font.set_text(s, 0, flags=flags)\n",
      "/Users/minseong/opt/anaconda3/lib/python3.9/site-packages/matplotlib/backends/backend_agg.py:203: RuntimeWarning: Glyph 54872 missing from current font.\n",
      "  font.set_text(s, 0, flags=flags)\n",
      "/Users/minseong/opt/anaconda3/lib/python3.9/site-packages/matplotlib/backends/backend_agg.py:203: RuntimeWarning: Glyph 48512 missing from current font.\n",
      "  font.set_text(s, 0, flags=flags)\n",
      "/Users/minseong/opt/anaconda3/lib/python3.9/site-packages/matplotlib/backends/backend_agg.py:203: RuntimeWarning: Glyph 46020 missing from current font.\n",
      "  font.set_text(s, 0, flags=flags)\n",
      "/Users/minseong/opt/anaconda3/lib/python3.9/site-packages/matplotlib/backends/backend_agg.py:240: RuntimeWarning: Glyph 49892 missing from current font.\n",
      "  font.set_text(s, 0.0, flags=flags)\n",
      "/Users/minseong/opt/anaconda3/lib/python3.9/site-packages/matplotlib/backends/backend_agg.py:240: RuntimeWarning: Glyph 51228 missing from current font.\n",
      "  font.set_text(s, 0.0, flags=flags)\n",
      "/Users/minseong/opt/anaconda3/lib/python3.9/site-packages/matplotlib/backends/backend_agg.py:203: RuntimeWarning: Glyph 49892 missing from current font.\n",
      "  font.set_text(s, 0, flags=flags)\n",
      "/Users/minseong/opt/anaconda3/lib/python3.9/site-packages/matplotlib/backends/backend_agg.py:203: RuntimeWarning: Glyph 51228 missing from current font.\n",
      "  font.set_text(s, 0, flags=flags)\n"
     ]
    },
    {
     "data": {
      "text/plain": [
       "<AxesSubplot:>"
      ]
     },
     "execution_count": 47,
     "metadata": {},
     "output_type": "execute_result"
    },
    {
     "name": "stderr",
     "output_type": "stream",
     "text": [
      "findfont: Font family ['Malgun Gothic'] not found. Falling back to DejaVu Sans.\n"
     ]
    },
    {
     "data": {
      "image/png": "[encoded data removed]",
      "text/plain": [
       "<Figure size 432x288 with 2 Axes>"
      ]
     },
     "metadata": {
      "needs_background": "light"
     },
     "output_type": "display_data"
    }
   ],
   "source": [
    "test_dt_con = confusion_matrix(df_test_y, test_result.dt_binary)\n",
    "test_df_con = pd.DataFrame(test_dt_con, index = ['실제값(상환/N)', '실제값(부도/P)'], columns = ['예측값(상환/N)', '예측값(부도/P)'])\n",
    "sns.heatmap(test_df_con, annot = True, fmt = 'd', cmap = 'Blues', annot_kws = {'size' : 14})"
   ]
  },
  {
   "cell_type": "code",
   "execution_count": 48,
   "metadata": {},
   "outputs": [
    {
     "name": "stdout",
     "output_type": "stream",
     "text": [
      "[0.         0.13490308 1.        ] [0.         0.84586318 1.        ]\n"
     ]
    }
   ],
   "source": [
    "#roc_curve 계산\n",
    "fpr,tpr,thresholds=roc_curve(df_test_y, test_result['dt_binary'])\n",
    "roc_auc = auc(fpr, tpr)\n",
    "tn, fp, fn, tp = confusion_matrix(df_test_y, test_result.dt_binary).ravel() #ravel은 1차원으로 만들어주는 함수를 의미함.\n",
    "print(fpr, tpr)"
   ]
  },
  {
   "cell_type": "code",
   "execution_count": 49,
   "metadata": {},
   "outputs": [
    {
     "name": "stdout",
     "output_type": "stream",
     "text": [
      "AUC score :  0.855\n",
      "F1-Score :  0.665\n",
      "Precision score :  0.548\n",
      "Recall score : 0.846\n",
      "Accuracy :  0.862\n"
     ]
    }
   ],
   "source": [
    "print('AUC score : ', round(auc(fpr, tpr), 3))\n",
    "print('F1-Score : ', round(f1_score(df_test_y, test_result['dt_binary']), 3))\n",
    "print('Precision score : ', round(precision_score(df_test_y, test_result['dt_binary']), 3))\n",
    "print('Recall score :', round(recall_score(df_test_y, test_result['dt_binary']), 3))\n",
    "print('Accuracy : ', round(((tn + tp) / (tn + fp + fn + tp)), 3))"
   ]
  },
  {
   "cell_type": "code",
   "execution_count": 50,
   "metadata": {},
   "outputs": [
    {
     "data": {
      "image/png": "[encoded data removed]",
      "text/plain": [
       "<Figure size 432x288 with 1 Axes>"
      ]
     },
     "metadata": {
      "needs_background": "light"
     },
     "output_type": "display_data"
    }
   ],
   "source": [
    "#ROC 커브 그래프에 나타내기\n",
    "\n",
    "#그래프 그리기 시작\n",
    "plt.figure()\n",
    "#x축, y축 지정해주기\n",
    "plt.plot(fpr, tpr, label='ROC curve (area= %0.2f)' % roc_auc)\n",
    "\n",
    "##그래프에 직선 추가하기\n",
    "plt.plot([0,1],[0,1],color='navy', linestyle='--')\n",
    "\n",
    "#x축과 y축 구간 설정하기\n",
    "plt.xlim([0,1])\n",
    "plt.ylim([0,1.05])\n",
    "\n",
    "#축 이름 및 그래프 타이틀, 레전드 추가하기\n",
    "plt.xlabel('False Positive Rate')\n",
    "plt.ylabel('True Positive Rate')\n",
    "plt.title('Receiver Operating Characteristic Curve :LPM')\n",
    "plt.legend(loc=\"lower right\")\n",
    "\n",
    "plt.show()"
   ]
  },
  {
   "cell_type": "markdown",
   "metadata": {},
   "source": [
    "### 일반 모형"
   ]
  },
  {
   "cell_type": "code",
   "execution_count": 51,
   "metadata": {},
   "outputs": [],
   "source": [
    "fpr2,tpr2,thresholds2=roc_curve(df_test_y, test_result.iloc[:,1:2])"
   ]
  },
  {
   "cell_type": "code",
   "execution_count": 52,
   "metadata": {
    "scrolled": true
   },
   "outputs": [
    {
     "data": {
      "text/html": [
       "<div>\n",
       "<style scoped>\n",
       "    .dataframe tbody tr th:only-of-type {\n",
       "        vertical-align: middle;\n",
       "    }\n",
       "\n",
       "    .dataframe tbody tr th {\n",
       "        vertical-align: top;\n",
       "    }\n",
       "\n",
       "    .dataframe thead th {\n",
       "        text-align: right;\n",
       "    }\n",
       "</style>\n",
       "<table border=\"1\" class=\"dataframe\">\n",
       "  <thead>\n",
       "    <tr style=\"text-align: right;\">\n",
       "      <th></th>\n",
       "      <th>fpr</th>\n",
       "      <th>tpr</th>\n",
       "      <th>thresholds</th>\n",
       "      <th>best</th>\n",
       "    </tr>\n",
       "  </thead>\n",
       "  <tbody>\n",
       "    <tr>\n",
       "      <th>0</th>\n",
       "      <td>0.000000</td>\n",
       "      <td>0.000000</td>\n",
       "      <td>1.976411</td>\n",
       "      <td>1.000000</td>\n",
       "    </tr>\n",
       "    <tr>\n",
       "      <th>1</th>\n",
       "      <td>0.000939</td>\n",
       "      <td>0.020839</td>\n",
       "      <td>0.976411</td>\n",
       "      <td>1.019900</td>\n",
       "    </tr>\n",
       "    <tr>\n",
       "      <th>2</th>\n",
       "      <td>0.001049</td>\n",
       "      <td>0.024364</td>\n",
       "      <td>0.972840</td>\n",
       "      <td>1.023315</td>\n",
       "    </tr>\n",
       "    <tr>\n",
       "      <th>3</th>\n",
       "      <td>0.002130</td>\n",
       "      <td>0.052620</td>\n",
       "      <td>0.969280</td>\n",
       "      <td>1.050490</td>\n",
       "    </tr>\n",
       "    <tr>\n",
       "      <th>4</th>\n",
       "      <td>0.003365</td>\n",
       "      <td>0.079832</td>\n",
       "      <td>0.963118</td>\n",
       "      <td>1.076467</td>\n",
       "    </tr>\n",
       "    <tr>\n",
       "      <th>5</th>\n",
       "      <td>0.003933</td>\n",
       "      <td>0.090942</td>\n",
       "      <td>0.956904</td>\n",
       "      <td>1.087010</td>\n",
       "    </tr>\n",
       "    <tr>\n",
       "      <th>6</th>\n",
       "      <td>0.005232</td>\n",
       "      <td>0.111020</td>\n",
       "      <td>0.952985</td>\n",
       "      <td>1.105788</td>\n",
       "    </tr>\n",
       "    <tr>\n",
       "      <th>7</th>\n",
       "      <td>0.006396</td>\n",
       "      <td>0.135836</td>\n",
       "      <td>0.952330</td>\n",
       "      <td>1.129440</td>\n",
       "    </tr>\n",
       "    <tr>\n",
       "      <th>8</th>\n",
       "      <td>0.007100</td>\n",
       "      <td>0.146805</td>\n",
       "      <td>0.951713</td>\n",
       "      <td>1.139705</td>\n",
       "    </tr>\n",
       "    <tr>\n",
       "      <th>9</th>\n",
       "      <td>0.008925</td>\n",
       "      <td>0.172974</td>\n",
       "      <td>0.943809</td>\n",
       "      <td>1.164049</td>\n",
       "    </tr>\n",
       "    <tr>\n",
       "      <th>10</th>\n",
       "      <td>0.009979</td>\n",
       "      <td>0.185833</td>\n",
       "      <td>0.939137</td>\n",
       "      <td>1.175854</td>\n",
       "    </tr>\n",
       "    <tr>\n",
       "      <th>11</th>\n",
       "      <td>0.011131</td>\n",
       "      <td>0.201399</td>\n",
       "      <td>0.937903</td>\n",
       "      <td>1.190267</td>\n",
       "    </tr>\n",
       "    <tr>\n",
       "      <th>12</th>\n",
       "      <td>0.012764</td>\n",
       "      <td>0.227286</td>\n",
       "      <td>0.931311</td>\n",
       "      <td>1.214521</td>\n",
       "    </tr>\n",
       "    <tr>\n",
       "      <th>13</th>\n",
       "      <td>0.013551</td>\n",
       "      <td>0.234702</td>\n",
       "      <td>0.929804</td>\n",
       "      <td>1.221151</td>\n",
       "    </tr>\n",
       "    <tr>\n",
       "      <th>14</th>\n",
       "      <td>0.014998</td>\n",
       "      <td>0.252270</td>\n",
       "      <td>0.927449</td>\n",
       "      <td>1.237272</td>\n",
       "    </tr>\n",
       "    <tr>\n",
       "      <th>15</th>\n",
       "      <td>0.015026</td>\n",
       "      <td>0.252326</td>\n",
       "      <td>0.916667</td>\n",
       "      <td>1.237301</td>\n",
       "    </tr>\n",
       "    <tr>\n",
       "      <th>16</th>\n",
       "      <td>0.017074</td>\n",
       "      <td>0.270938</td>\n",
       "      <td>0.916549</td>\n",
       "      <td>1.253864</td>\n",
       "    </tr>\n",
       "    <tr>\n",
       "      <th>17</th>\n",
       "      <td>0.017298</td>\n",
       "      <td>0.274858</td>\n",
       "      <td>0.911765</td>\n",
       "      <td>1.257560</td>\n",
       "    </tr>\n",
       "    <tr>\n",
       "      <th>18</th>\n",
       "      <td>0.019805</td>\n",
       "      <td>0.301985</td>\n",
       "      <td>0.909733</td>\n",
       "      <td>1.282180</td>\n",
       "    </tr>\n",
       "    <tr>\n",
       "      <th>19</th>\n",
       "      <td>0.021214</td>\n",
       "      <td>0.311911</td>\n",
       "      <td>0.903279</td>\n",
       "      <td>1.290697</td>\n",
       "    </tr>\n",
       "  </tbody>\n",
       "</table>\n",
       "</div>"
      ],
      "text/plain": [
       "         fpr       tpr  thresholds      best\n",
       "0   0.000000  0.000000    1.976411  1.000000\n",
       "1   0.000939  0.020839    0.976411  1.019900\n",
       "2   0.001049  0.024364    0.972840  1.023315\n",
       "3   0.002130  0.052620    0.969280  1.050490\n",
       "4   0.003365  0.079832    0.963118  1.076467\n",
       "5   0.003933  0.090942    0.956904  1.087010\n",
       "6   0.005232  0.111020    0.952985  1.105788\n",
       "7   0.006396  0.135836    0.952330  1.129440\n",
       "8   0.007100  0.146805    0.951713  1.139705\n",
       "9   0.008925  0.172974    0.943809  1.164049\n",
       "10  0.009979  0.185833    0.939137  1.175854\n",
       "11  0.011131  0.201399    0.937903  1.190267\n",
       "12  0.012764  0.227286    0.931311  1.214521\n",
       "13  0.013551  0.234702    0.929804  1.221151\n",
       "14  0.014998  0.252270    0.927449  1.237272\n",
       "15  0.015026  0.252326    0.916667  1.237301\n",
       "16  0.017074  0.270938    0.916549  1.253864\n",
       "17  0.017298  0.274858    0.911765  1.257560\n",
       "18  0.019805  0.301985    0.909733  1.282180\n",
       "19  0.021214  0.311911    0.903279  1.290697"
      ]
     },
     "execution_count": 52,
     "metadata": {},
     "output_type": "execute_result"
    }
   ],
   "source": [
    "#최적 threshold 찾기 \n",
    "\n",
    "#fpr, tpr, threshold 로 구성된 dataframe 생성하기\n",
    "roc_result = pd.DataFrame([fpr2,tpr2,thresholds2], index=['fpr','tpr','thresholds']).T\n",
    "# (1-fpr)+(tpr)값을 계산하여 'best'라는 이름의 칼럼 생성하기\n",
    "roc_result['best'] = (1-roc_result.fpr)+(roc_result.tpr) # specificity + sensitivity\n",
    "# 이 best를 계산하는 방법은 여러가지가 있습니다. 우리는 Youden Index를 기준으로 합니다. (정답은 없음)\n",
    "roc_result.head(20)"
   ]
  },
  {
   "cell_type": "code",
   "execution_count": 53,
   "metadata": {},
   "outputs": [
    {
     "data": {
      "text/plain": [
       "0.5111111111111111"
      ]
     },
     "execution_count": 53,
     "metadata": {},
     "output_type": "execute_result"
    }
   ],
   "source": [
    "#최적 threshold는 best의 값이 최대가 될 때의 threshold 값\n",
    "optimal_threshold=roc_result.thresholds[roc_result.best.idxmax()] \n",
    "#roc_result.best.idxmax()는 best값이 max 일때의 index를 의미\n",
    "optimal_threshold"
   ]
  },
  {
   "cell_type": "code",
   "execution_count": 54,
   "metadata": {},
   "outputs": [],
   "source": [
    "## Confusion Matrix\n",
    "#각 모형 별로 optimal threshold를 이용하여 binary (0 or 1) 로 예측\n",
    "test_result['dt_binary2']=np.where(test_result.iloc[:,1:2]>=optimal_threshold,1,0)"
   ]
  },
  {
   "cell_type": "code",
   "execution_count": 55,
   "metadata": {},
   "outputs": [
    {
     "name": "stderr",
     "output_type": "stream",
     "text": [
      "/Users/minseong/opt/anaconda3/lib/python3.9/site-packages/matplotlib/backends/backend_agg.py:240: RuntimeWarning: Glyph 50696 missing from current font.\n",
      "  font.set_text(s, 0.0, flags=flags)\n",
      "/Users/minseong/opt/anaconda3/lib/python3.9/site-packages/matplotlib/backends/backend_agg.py:240: RuntimeWarning: Glyph 52769 missing from current font.\n",
      "  font.set_text(s, 0.0, flags=flags)\n",
      "/Users/minseong/opt/anaconda3/lib/python3.9/site-packages/matplotlib/backends/backend_agg.py:240: RuntimeWarning: Glyph 44050 missing from current font.\n",
      "  font.set_text(s, 0.0, flags=flags)\n",
      "/Users/minseong/opt/anaconda3/lib/python3.9/site-packages/matplotlib/backends/backend_agg.py:240: RuntimeWarning: Glyph 49345 missing from current font.\n",
      "  font.set_text(s, 0.0, flags=flags)\n",
      "/Users/minseong/opt/anaconda3/lib/python3.9/site-packages/matplotlib/backends/backend_agg.py:240: RuntimeWarning: Glyph 54872 missing from current font.\n",
      "  font.set_text(s, 0.0, flags=flags)\n",
      "/Users/minseong/opt/anaconda3/lib/python3.9/site-packages/matplotlib/backends/backend_agg.py:240: RuntimeWarning: Glyph 48512 missing from current font.\n",
      "  font.set_text(s, 0.0, flags=flags)\n",
      "/Users/minseong/opt/anaconda3/lib/python3.9/site-packages/matplotlib/backends/backend_agg.py:240: RuntimeWarning: Glyph 46020 missing from current font.\n",
      "  font.set_text(s, 0.0, flags=flags)\n",
      "/Users/minseong/opt/anaconda3/lib/python3.9/site-packages/matplotlib/backends/backend_agg.py:203: RuntimeWarning: Glyph 50696 missing from current font.\n",
      "  font.set_text(s, 0, flags=flags)\n",
      "/Users/minseong/opt/anaconda3/lib/python3.9/site-packages/matplotlib/backends/backend_agg.py:203: RuntimeWarning: Glyph 52769 missing from current font.\n",
      "  font.set_text(s, 0, flags=flags)\n",
      "/Users/minseong/opt/anaconda3/lib/python3.9/site-packages/matplotlib/backends/backend_agg.py:203: RuntimeWarning: Glyph 44050 missing from current font.\n",
      "  font.set_text(s, 0, flags=flags)\n",
      "/Users/minseong/opt/anaconda3/lib/python3.9/site-packages/matplotlib/backends/backend_agg.py:203: RuntimeWarning: Glyph 49345 missing from current font.\n",
      "  font.set_text(s, 0, flags=flags)\n",
      "/Users/minseong/opt/anaconda3/lib/python3.9/site-packages/matplotlib/backends/backend_agg.py:203: RuntimeWarning: Glyph 54872 missing from current font.\n",
      "  font.set_text(s, 0, flags=flags)\n",
      "/Users/minseong/opt/anaconda3/lib/python3.9/site-packages/matplotlib/backends/backend_agg.py:203: RuntimeWarning: Glyph 48512 missing from current font.\n",
      "  font.set_text(s, 0, flags=flags)\n",
      "/Users/minseong/opt/anaconda3/lib/python3.9/site-packages/matplotlib/backends/backend_agg.py:203: RuntimeWarning: Glyph 46020 missing from current font.\n",
      "  font.set_text(s, 0, flags=flags)\n",
      "/Users/minseong/opt/anaconda3/lib/python3.9/site-packages/matplotlib/backends/backend_agg.py:240: RuntimeWarning: Glyph 49892 missing from current font.\n",
      "  font.set_text(s, 0.0, flags=flags)\n",
      "/Users/minseong/opt/anaconda3/lib/python3.9/site-packages/matplotlib/backends/backend_agg.py:240: RuntimeWarning: Glyph 51228 missing from current font.\n",
      "  font.set_text(s, 0.0, flags=flags)\n",
      "/Users/minseong/opt/anaconda3/lib/python3.9/site-packages/matplotlib/backends/backend_agg.py:203: RuntimeWarning: Glyph 49892 missing from current font.\n",
      "  font.set_text(s, 0, flags=flags)\n",
      "/Users/minseong/opt/anaconda3/lib/python3.9/site-packages/matplotlib/backends/backend_agg.py:203: RuntimeWarning: Glyph 51228 missing from current font.\n",
      "  font.set_text(s, 0, flags=flags)\n"
     ]
    },
    {
     "data": {
      "text/plain": [
       "<AxesSubplot:>"
      ]
     },
     "execution_count": 55,
     "metadata": {},
     "output_type": "execute_result"
    },
    {
     "data": {
      "image/png": "[encoded data removed]",
      "text/plain": [
       "<Figure size 432x288 with 2 Axes>"
      ]
     },
     "metadata": {
      "needs_background": "light"
     },
     "output_type": "display_data"
    }
   ],
   "source": [
    "dt_con2 = confusion_matrix(df_test_y, test_result.dt_binary2)\n",
    "df_con2 = pd.DataFrame(dt_con2, index = ['실제값(상환/N)', '실제값(부도/P)'], columns = ['예측값(상환/N)', '예측값(부도/P)'])\n",
    "sns.heatmap(df_con2, annot = True, fmt = 'd', cmap = 'Blues', annot_kws = {'size' : 14})"
   ]
  },
  {
   "cell_type": "code",
   "execution_count": 56,
   "metadata": {},
   "outputs": [],
   "source": [
    "fpr2,tpr2,thresholds2=roc_curve(df_test_y, test_result['dt_binary2'])\n",
    "tn2, fp2, fn2, tp2 = confusion_matrix(df_test_y, test_result.dt_binary2).ravel() #ravel은 1차원으로 만들어주는 함수를 의미함.\n",
    "roc_auc2 = auc(fpr2, tpr2)"
   ]
  },
  {
   "cell_type": "code",
   "execution_count": 57,
   "metadata": {},
   "outputs": [
    {
     "name": "stdout",
     "output_type": "stream",
     "text": [
      "AUC score :  0.865\n",
      "F1-Score :  0.644\n",
      "Precision score :  0.5\n",
      "Recall score : 0.905\n",
      "Accuracy :  0.838\n"
     ]
    }
   ],
   "source": [
    "print('AUC score : ', round(auc(fpr2, tpr2), 3))\n",
    "print('F1-Score : ', round(f1_score(df_test_y, test_result['dt_binary2']), 3))\n",
    "print('Precision score : ', round(precision_score(df_test_y, test_result['dt_binary2']), 3))\n",
    "print('Recall score :', round(recall_score(df_test_y, test_result['dt_binary2']), 3))\n",
    "print('Accuracy : ', round(((tn2 + tp2) / (tn2 + fp2 + fn2 + tp2)), 3))"
   ]
  },
  {
   "cell_type": "code",
   "execution_count": 58,
   "metadata": {},
   "outputs": [
    {
     "name": "stdout",
     "output_type": "stream",
     "text": [
      "              precision    recall  f1-score   support\n",
      "\n",
      "           0       0.98      0.82      0.89    183087\n",
      "           1       0.50      0.90      0.64     35462\n",
      "\n",
      "    accuracy                           0.84    218549\n",
      "   macro avg       0.74      0.86      0.77    218549\n",
      "weighted avg       0.90      0.84      0.85    218549\n",
      "\n"
     ]
    }
   ],
   "source": [
    "report = classification_report(df_test_y, test_result['dt_binary2'])\n",
    "print(report)"
   ]
  },
  {
   "cell_type": "code",
   "execution_count": 59,
   "metadata": {},
   "outputs": [
    {
     "data": {
      "image/png": "[encoded data removed]",
      "text/plain": [
       "<Figure size 432x288 with 1 Axes>"
      ]
     },
     "metadata": {
      "needs_background": "light"
     },
     "output_type": "display_data"
    }
   ],
   "source": [
    "#ROC 커브 그래프에 나타내기\n",
    "\n",
    "#그래프 그리기 시작\n",
    "plt.figure()\n",
    "#x축, y축 지정해주기\n",
    "plt.plot(fpr2, tpr2, label='ROC curve (area= %0.2f)' % roc_auc2)\n",
    "\n",
    "##그래프에 직선 추가하기\n",
    "plt.plot([0,1],[0,1],color='navy', linestyle='--')\n",
    "\n",
    "#x축과 y축 구간 설정하기\n",
    "plt.xlim([0,1])\n",
    "plt.ylim([0,1.05])\n",
    "\n",
    "#축 이름 및 그래프 타이틀, 레전드 추가하기\n",
    "plt.xlabel('False Positive Rate')\n",
    "plt.ylabel('True Positive Rate')\n",
    "plt.title('Receiver Operating Characteristic Curve :LPM')\n",
    "plt.legend(loc=\"lower right\")\n",
    "\n",
    "plt.show()"
   ]
  },
  {
   "cell_type": "markdown",
   "metadata": {},
   "source": [
    "### 변수 중요도"
   ]
  },
  {
   "cell_type": "code",
   "execution_count": 60,
   "metadata": {},
   "outputs": [
    {
     "data": {
      "text/html": [
       "<div>\n",
       "<style scoped>\n",
       "    .dataframe tbody tr th:only-of-type {\n",
       "        vertical-align: middle;\n",
       "    }\n",
       "\n",
       "    .dataframe tbody tr th {\n",
       "        vertical-align: top;\n",
       "    }\n",
       "\n",
       "    .dataframe thead th {\n",
       "        text-align: right;\n",
       "    }\n",
       "</style>\n",
       "<table border=\"1\" class=\"dataframe\">\n",
       "  <thead>\n",
       "    <tr style=\"text-align: right;\">\n",
       "      <th></th>\n",
       "      <th>Feature</th>\n",
       "      <th>Importance</th>\n",
       "    </tr>\n",
       "  </thead>\n",
       "  <tbody>\n",
       "    <tr>\n",
       "      <th>26</th>\n",
       "      <td>last_fico_score</td>\n",
       "      <td>0.960</td>\n",
       "    </tr>\n",
       "    <tr>\n",
       "      <th>0</th>\n",
       "      <td>loan_amnt</td>\n",
       "      <td>0.017</td>\n",
       "    </tr>\n",
       "    <tr>\n",
       "      <th>8</th>\n",
       "      <td>total_acc</td>\n",
       "      <td>0.005</td>\n",
       "    </tr>\n",
       "    <tr>\n",
       "      <th>2</th>\n",
       "      <td>dti</td>\n",
       "      <td>0.004</td>\n",
       "    </tr>\n",
       "    <tr>\n",
       "      <th>1</th>\n",
       "      <td>annual_inc</td>\n",
       "      <td>0.004</td>\n",
       "    </tr>\n",
       "    <tr>\n",
       "      <th>20</th>\n",
       "      <td>mths_since_rcnt_il</td>\n",
       "      <td>0.004</td>\n",
       "    </tr>\n",
       "    <tr>\n",
       "      <th>25</th>\n",
       "      <td>fico_score</td>\n",
       "      <td>0.001</td>\n",
       "    </tr>\n",
       "    <tr>\n",
       "      <th>7</th>\n",
       "      <td>revol_util</td>\n",
       "      <td>0.001</td>\n",
       "    </tr>\n",
       "    <tr>\n",
       "      <th>34</th>\n",
       "      <td>verification_status_2</td>\n",
       "      <td>0.001</td>\n",
       "    </tr>\n",
       "    <tr>\n",
       "      <th>12</th>\n",
       "      <td>tot_cur_bal</td>\n",
       "      <td>0.001</td>\n",
       "    </tr>\n",
       "  </tbody>\n",
       "</table>\n",
       "</div>"
      ],
      "text/plain": [
       "                  Feature  Importance\n",
       "26        last_fico_score       0.960\n",
       "0               loan_amnt       0.017\n",
       "8               total_acc       0.005\n",
       "2                     dti       0.004\n",
       "1              annual_inc       0.004\n",
       "20     mths_since_rcnt_il       0.004\n",
       "25             fico_score       0.001\n",
       "7              revol_util       0.001\n",
       "34  verification_status_2       0.001\n",
       "12            tot_cur_bal       0.001"
      ]
     },
     "execution_count": 60,
     "metadata": {},
     "output_type": "execute_result"
    }
   ],
   "source": [
    "df_importance=pd.DataFrame()\n",
    "df_importance['Feature']=x_train_res.columns\n",
    "df_importance['Importance']=tree_final.feature_importances_\n",
    "\n",
    "df_importance.sort_values('Importance', ascending=False, inplace=True)\n",
    "df_importance.round(3).head(20)\n",
    "df_importance_top10 = df_importance.head(10)\n",
    "df_importance_top10.round(3)"
   ]
  },
  {
   "cell_type": "code",
   "execution_count": 61,
   "metadata": {},
   "outputs": [
    {
     "name": "stderr",
     "output_type": "stream",
     "text": [
      "/Users/minseong/opt/anaconda3/lib/python3.9/site-packages/pandas/util/_decorators.py:311: SettingWithCopyWarning: \n",
      "A value is trying to be set on a copy of a slice from a DataFrame\n",
      "\n",
      "See the caveats in the documentation: https://pandas.pydata.org/pandas-docs/stable/user_guide/indexing.html#returning-a-view-versus-a-copy\n",
      "  return func(*args, **kwargs)\n"
     ]
    },
    {
     "data": {
      "text/plain": [
       "Text(0, 0.5, '변수')"
      ]
     },
     "execution_count": 61,
     "metadata": {},
     "output_type": "execute_result"
    },
    {
     "name": "stderr",
     "output_type": "stream",
     "text": [
      "/Users/minseong/opt/anaconda3/lib/python3.9/site-packages/matplotlib/backends/backend_agg.py:240: RuntimeWarning: Glyph 48320 missing from current font.\n",
      "  font.set_text(s, 0.0, flags=flags)\n",
      "/Users/minseong/opt/anaconda3/lib/python3.9/site-packages/matplotlib/backends/backend_agg.py:240: RuntimeWarning: Glyph 49688 missing from current font.\n",
      "  font.set_text(s, 0.0, flags=flags)\n",
      "/Users/minseong/opt/anaconda3/lib/python3.9/site-packages/matplotlib/backends/backend_agg.py:240: RuntimeWarning: Glyph 51473 missing from current font.\n",
      "  font.set_text(s, 0.0, flags=flags)\n",
      "/Users/minseong/opt/anaconda3/lib/python3.9/site-packages/matplotlib/backends/backend_agg.py:240: RuntimeWarning: Glyph 50836 missing from current font.\n",
      "  font.set_text(s, 0.0, flags=flags)\n",
      "/Users/minseong/opt/anaconda3/lib/python3.9/site-packages/matplotlib/backends/backend_agg.py:240: RuntimeWarning: Glyph 46020 missing from current font.\n",
      "  font.set_text(s, 0.0, flags=flags)\n",
      "/Users/minseong/opt/anaconda3/lib/python3.9/site-packages/matplotlib/backends/backend_agg.py:203: RuntimeWarning: Glyph 48320 missing from current font.\n",
      "  font.set_text(s, 0, flags=flags)\n",
      "/Users/minseong/opt/anaconda3/lib/python3.9/site-packages/matplotlib/backends/backend_agg.py:203: RuntimeWarning: Glyph 49688 missing from current font.\n",
      "  font.set_text(s, 0, flags=flags)\n",
      "/Users/minseong/opt/anaconda3/lib/python3.9/site-packages/matplotlib/backends/backend_agg.py:203: RuntimeWarning: Glyph 51473 missing from current font.\n",
      "  font.set_text(s, 0, flags=flags)\n",
      "/Users/minseong/opt/anaconda3/lib/python3.9/site-packages/matplotlib/backends/backend_agg.py:203: RuntimeWarning: Glyph 50836 missing from current font.\n",
      "  font.set_text(s, 0, flags=flags)\n",
      "/Users/minseong/opt/anaconda3/lib/python3.9/site-packages/matplotlib/backends/backend_agg.py:203: RuntimeWarning: Glyph 46020 missing from current font.\n",
      "  font.set_text(s, 0, flags=flags)\n"
     ]
    },
    {
     "data": {
      "image/png": "[encoded data removed]",
      "text/plain": [
       "<Figure size 432x288 with 1 Axes>"
      ]
     },
     "metadata": {
      "needs_background": "light"
     },
     "output_type": "display_data"
    }
   ],
   "source": [
    "df_importance_top10.sort_values('Importance', ascending=True, inplace=True)\n",
    "coordinates=range(len(df_importance_top10))\n",
    "plt.barh(y=coordinates, width=df_importance_top10['Importance'])\n",
    "plt.yticks(coordinates, df_importance_top10['Feature'])\n",
    "plt.xlabel('변수 중요도')\n",
    "plt.ylabel('변수')"
   ]
  },
  {
   "cell_type": "markdown",
   "metadata": {},
   "source": [
    "### 전체 결과"
   ]
  },
  {
   "cell_type": "code",
   "execution_count": 62,
   "metadata": {},
   "outputs": [
    {
     "data": {
      "text/html": [
       "<div>\n",
       "<style scoped>\n",
       "    .dataframe tbody tr th:only-of-type {\n",
       "        vertical-align: middle;\n",
       "    }\n",
       "\n",
       "    .dataframe tbody tr th {\n",
       "        vertical-align: top;\n",
       "    }\n",
       "\n",
       "    .dataframe thead th {\n",
       "        text-align: right;\n",
       "    }\n",
       "</style>\n",
       "<table border=\"1\" class=\"dataframe\">\n",
       "  <thead>\n",
       "    <tr style=\"text-align: right;\">\n",
       "      <th></th>\n",
       "      <th>auc_score</th>\n",
       "      <th>f1_score</th>\n",
       "      <th>precision</th>\n",
       "      <th>recall</th>\n",
       "      <th>accuracy</th>\n",
       "    </tr>\n",
       "  </thead>\n",
       "  <tbody>\n",
       "    <tr>\n",
       "      <th>Random Forest Custom</th>\n",
       "      <td>0.780</td>\n",
       "      <td>0.624</td>\n",
       "      <td>0.619</td>\n",
       "      <td>0.629</td>\n",
       "      <td>0.887</td>\n",
       "    </tr>\n",
       "    <tr>\n",
       "      <th>Random Forest</th>\n",
       "      <td>0.889</td>\n",
       "      <td>0.666</td>\n",
       "      <td>0.519</td>\n",
       "      <td>0.930</td>\n",
       "      <td>0.861</td>\n",
       "    </tr>\n",
       "    <tr>\n",
       "      <th>Tree Custom</th>\n",
       "      <td>0.847</td>\n",
       "      <td>0.713</td>\n",
       "      <td>0.672</td>\n",
       "      <td>0.759</td>\n",
       "      <td>0.909</td>\n",
       "    </tr>\n",
       "    <tr>\n",
       "      <th>Tree Original</th>\n",
       "      <td>0.894</td>\n",
       "      <td>0.688</td>\n",
       "      <td>0.550</td>\n",
       "      <td>0.920</td>\n",
       "      <td>0.875</td>\n",
       "    </tr>\n",
       "  </tbody>\n",
       "</table>\n",
       "</div>"
      ],
      "text/plain": [
       "                      auc_score  f1_score  precision  recall  accuracy\n",
       "Random Forest Custom      0.780     0.624      0.619   0.629     0.887\n",
       "Random Forest             0.889     0.666      0.519   0.930     0.861\n",
       "Tree Custom               0.847     0.713      0.672   0.759     0.909\n",
       "Tree Original             0.894     0.688      0.550   0.920     0.875"
      ]
     },
     "execution_count": 62,
     "metadata": {},
     "output_type": "execute_result"
    }
   ],
   "source": [
    "auc_score = [0.78, 0.889, 0.847, 0.894, ]\n",
    "f1_score = [0.624, 0.666, 0.713, 0.688]\n",
    "precision = [0.619, 0.519, 0.672, 0.55]\n",
    "recall = [0.629, 0.93, 0.759, 0.92]\n",
    "accuracy = [0.887, 0.861, 0.909, 0.875]\n",
    "\n",
    "df_eval = pd.DataFrame(index = ['Random Forest Custom', 'Random Forest', 'Tree Custom', 'Tree Original'])\n",
    "df_eval['auc_score'] = auc_score\n",
    "df_eval['f1_score'] = f1_score\n",
    "df_eval['precision'] = precision\n",
    "df_eval['recall'] = recall\n",
    "df_eval['accuracy'] = accuracy\n",
    "df_eval"
   ]
  },
  {
   "cell_type": "code",
   "execution_count": 63,
   "metadata": {},
   "outputs": [
    {
     "data": {
      "image/png": "[encoded data removed]",
      "text/plain": [
       "<Figure size 432x288 with 1 Axes>"
      ]
     },
     "metadata": {
      "needs_background": "light"
     },
     "output_type": "display_data"
    }
   ],
   "source": [
    "df_eval.plot.bar(rot = 0)\n",
    "plt.legend(loc = 'lower right')\n",
    "plt.grid(axis = 'y')"
   ]
  },
  {
   "cell_type": "code",
   "execution_count": 64,
   "metadata": {},
   "outputs": [
    {
     "data": {
      "text/plain": [
       "Index(['Random Forest Custom', 'Random Forest', 'Tree Custom',\n",
       "       'Tree Original'],\n",
       "      dtype='object')"
      ]
     },
     "execution_count": 64,
     "metadata": {},
     "output_type": "execute_result"
    }
   ],
   "source": [
    "df_eval.index"
   ]
  },
  {
   "cell_type": "code",
   "execution_count": 65,
   "metadata": {},
   "outputs": [
    {
     "data": {
      "text/html": [
       "<div>\n",
       "<style scoped>\n",
       "    .dataframe tbody tr th:only-of-type {\n",
       "        vertical-align: middle;\n",
       "    }\n",
       "\n",
       "    .dataframe tbody tr th {\n",
       "        vertical-align: top;\n",
       "    }\n",
       "\n",
       "    .dataframe thead th {\n",
       "        text-align: right;\n",
       "    }\n",
       "</style>\n",
       "<table border=\"1\" class=\"dataframe\">\n",
       "  <thead>\n",
       "    <tr style=\"text-align: right;\">\n",
       "      <th></th>\n",
       "      <th>auc_score</th>\n",
       "      <th>f1_score</th>\n",
       "      <th>precision</th>\n",
       "      <th>recall</th>\n",
       "      <th>accuracy</th>\n",
       "    </tr>\n",
       "  </thead>\n",
       "  <tbody>\n",
       "    <tr>\n",
       "      <th>Tree Custom</th>\n",
       "      <td>0.884</td>\n",
       "      <td>0.705</td>\n",
       "      <td>0.587</td>\n",
       "      <td>0.883</td>\n",
       "      <td>0.886</td>\n",
       "    </tr>\n",
       "    <tr>\n",
       "      <th>Tree Original</th>\n",
       "      <td>0.888</td>\n",
       "      <td>0.679</td>\n",
       "      <td>0.538</td>\n",
       "      <td>0.920</td>\n",
       "      <td>0.865</td>\n",
       "    </tr>\n",
       "  </tbody>\n",
       "</table>\n",
       "</div>"
      ],
      "text/plain": [
       "               auc_score  f1_score  precision  recall  accuracy\n",
       "Tree Custom        0.884     0.705      0.587   0.883     0.886\n",
       "Tree Original      0.888     0.679      0.538   0.920     0.865"
      ]
     },
     "execution_count": 65,
     "metadata": {},
     "output_type": "execute_result"
    }
   ],
   "source": [
    "auc_score = [0.884, 0.888]\n",
    "f1_score = [0.705, 0.679]\n",
    "precision = [0.587, 0.538]\n",
    "recall = [0.883, 0.92]\n",
    "accuracy = [0.886, 0.865]\n",
    "\n",
    "df_eval = pd.DataFrame(index = ['Tree Custom', 'Tree Original'])\n",
    "df_eval['auc_score'] = auc_score\n",
    "df_eval['f1_score'] = f1_score\n",
    "df_eval['precision'] = precision\n",
    "df_eval['recall'] = recall\n",
    "df_eval['accuracy'] = accuracy\n",
    "df_eval"
   ]
  },
  {
   "cell_type": "code",
   "execution_count": 66,
   "metadata": {},
   "outputs": [
    {
     "data": {
      "image/png": "[encoded data removed]",
      "text/plain": [
       "<Figure size 432x288 with 1 Axes>"
      ]
     },
     "metadata": {
      "needs_background": "light"
     },
     "output_type": "display_data"
    }
   ],
   "source": [
    "df_eval.plot.bar(rot = 0)\n",
    "plt.legend(loc = 'lower right')\n",
    "plt.grid(axis = 'y')"
   ]
  },
  {
   "cell_type": "code",
   "execution_count": null,
   "metadata": {},
   "outputs": [],
   "source": []
  }
 ],
 "metadata": {
  "kernelspec": {
   "display_name": "Python 3 (ipykernel)",
   "language": "python",
   "name": "python3"
  },
  "language_info": {
   "codemirror_mode": {
    "name": "ipython",
    "version": 3
   },
   "file_extension": ".py",
   "mimetype": "text/x-python",
   "name": "python",
   "nbconvert_exporter": "python",
   "pygments_lexer": "ipython3",
   "version": "3.9.7"
  }
 },
 "nbformat": 4,
 "nbformat_minor": 4
}
